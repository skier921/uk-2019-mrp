{
  "cells": [
    {
      "cell_type": "markdown",
      "metadata": {
        "id": "OACMGzPNifvw"
      },
      "source": [
        "## Code Definitions\n",
        "\n",
        "- **Constituency Code**: Unique identifier for each Westminster Parliamentary constituency.(573 Constituencies)\n",
        "- **Age**:\n",
        "  - 1: Aged 16 to 24 years\n",
        "  - 2: Aged 25 to 34 years\n",
        "  - 3: Aged 35 to 49 years\n",
        "  - 4: Aged 50 to 64 years\n",
        "  - 5: Aged 65 years and over\n",
        "- **Education**\n",
        "  - 1: No qualifications - Individuals who have not obtained any formal educational qualifications.\n",
        "  - 2: Basic Education - Includes basic schooling and lower secondary education qualifications, such as elementary level GCSEs, basic skills certifications, and entry-level vocational qualifications.\n",
        "  - 3: Secondary Education - Encompasses completion of upper secondary education, signified by a larger number of GCSEs at higher grades, A levels, and intermediate vocational qualifications. This level typically prepares students for higher education or mid-level vocational training.\n",
        "  - 4: Advanced Secondary / Pre-University - Covers advanced level qualifications that are often prerequisites for university admission, including multiple A levels, advanced diplomas, and level 3 vocational qualifications.\n",
        "  - 5: Higher Education - Represents undergraduate and postgraduate degrees, higher vocational qualifications (like HNCs, HNDs), and professional certifications. This level signifies a completion of tertiary education.\n",
        "  - 6: Other / Vocational - Includes apprenticeships, work-related qualifications, and other non-traditional qualifications either obtained in the UK or internationally, where the equivalent level may not be clearly defined.\n",
        "- **Sex**:\n",
        "  - 1: Female\n",
        "  - 2: Male\n",
        "- **Party**\n",
        "  - 1: Labour Party\n",
        "  - 2: Conservative Party\n",
        "  - 3: Liberal Democrats\n",
        "  - 4: Other\n",
        "- **Voted**\n",
        "  - 1: Yes, Voted\n",
        "  - 0: No, Did not Vote"
      ]
    },
    {
      "cell_type": "markdown",
      "metadata": {
        "id": "_m9NFXx1dOAz"
      },
      "source": [
        "##Installing Packages and Libraries"
      ]
    },
    {
      "cell_type": "code",
      "execution_count": 37,
      "metadata": {},
      "outputs": [
        {
          "name": "stdout",
          "output_type": "stream",
          "text": [
            "\u001b[33mWARNING: Skipping /opt/homebrew/lib/python3.11/site-packages/pycparser-2.22.dist-info due to invalid metadata entry 'name'\u001b[0m\u001b[33m\n",
            "\u001b[0m\u001b[33mWARNING: Skipping /opt/homebrew/lib/python3.11/site-packages/pycparser-2.22.dist-info due to invalid metadata entry 'name'\u001b[0m\u001b[33m\n",
            "\u001b[0m\u001b[33m    WARNING: Skipping /opt/homebrew/lib/python3.11/site-packages/pycparser-2.22.dist-info due to invalid metadata entry 'name'\u001b[0m\u001b[33m\n",
            "\u001b[0m\u001b[33mWARNING: Skipping /opt/homebrew/lib/python3.11/site-packages/pycparser-2.22.dist-info due to invalid metadata entry 'name'\u001b[0m\u001b[33m\n",
            "\u001b[0m\u001b[33mWARNING: Skipping /opt/homebrew/lib/python3.11/site-packages/pycparser-2.22.dist-info due to invalid metadata entry 'name'\u001b[0m\u001b[33m\n",
            "\u001b[0mNote: you may need to restart the kernel to use updated packages.\n"
          ]
        }
      ],
      "source": [
        "%pip install -U altair vega_datasets jupyterlab -q"
      ]
    },
    {
      "cell_type": "code",
      "execution_count": 38,
      "metadata": {
        "id": "LZuwEd97gO6W"
      },
      "outputs": [],
      "source": [
        "import pandas as pd\n",
        "import numpy as np\n",
        "import matplotlib.pyplot as plt\n",
        "from cmdstanpy import CmdStanModel\n",
        "import os\n",
        "import json\n",
        "import shutil\n",
        "import urllib.request\n",
        "from sklearn.preprocessing import LabelEncoder\n",
        "from scipy.special import softmax\n",
        "from tqdm import tqdm\n",
        "import altair as alt"
      ]
    },
    {
      "cell_type": "code",
      "execution_count": null,
      "metadata": {
        "id": "imV2q7hX5gLQ"
      },
      "outputs": [],
      "source": [
        "# Install pre-built CmdStan binary\n",
        "# (faster than compiling from source via install_cmdstan() function)\n",
        "# If it doesn't Unpack, Delete the File and try again\n",
        "tgz_file = 'colab-cmdstan-2.34.1.tar.gz'\n",
        "tgz_url = 'https://github.com/stan-dev/cmdstan/releases/download/v2.34.1/colab-cmdstan-2.34.1.tgz'\n",
        "if not os.path.exists(tgz_file):\n",
        "    urllib.request.urlretrieve(tgz_url, tgz_file)\n",
        "    shutil.unpack_archive(tgz_file)"
      ]
    },
    {
      "cell_type": "code",
      "execution_count": 2,
      "metadata": {
        "colab": {
          "base_uri": "https://localhost:8080/",
          "height": 35
        },
        "id": "M94XROGG5iA4",
        "outputId": "47fea0f7-7065-4618-9c23-f130bfaad50d"
      },
      "outputs": [],
      "source": [
        "# Specify CmdStan location via environment variable\n",
        "#os.environ['CMDSTAN'] = './cmdstan-2.34.1'\n",
        "# Check CmdStan path\n",
        "from cmdstanpy import CmdStanModel\n",
        "#cmdstan_path()"
      ]
    },
    {
      "cell_type": "markdown",
      "metadata": {
        "id": "b8So7kapdzFa"
      },
      "source": [
        "## Load and Clean Census and Survey Data"
      ]
    },
    {
      "cell_type": "markdown",
      "metadata": {
        "id": "o6UZn8aid6Qf"
      },
      "source": [
        "###Cenus Data Clean Up"
      ]
    },
    {
      "cell_type": "code",
      "execution_count": 3,
      "metadata": {
        "colab": {
          "base_uri": "https://localhost:8080/",
          "height": 204
        },
        "id": "trENrtZYht5x",
        "outputId": "0b67ed14-1dfd-4c6a-cd6e-aa2c4a9e8512"
      },
      "outputs": [
        {
          "data": {
            "text/html": [
              "<div>\n",
              "<style scoped>\n",
              "    .dataframe tbody tr th:only-of-type {\n",
              "        vertical-align: middle;\n",
              "    }\n",
              "\n",
              "    .dataframe tbody tr th {\n",
              "        vertical-align: top;\n",
              "    }\n",
              "\n",
              "    .dataframe thead th {\n",
              "        text-align: right;\n",
              "    }\n",
              "</style>\n",
              "<table border=\"1\" class=\"dataframe\">\n",
              "  <thead>\n",
              "    <tr style=\"text-align: right;\">\n",
              "      <th></th>\n",
              "      <th>constit_code</th>\n",
              "      <th>age_group</th>\n",
              "      <th>education_level</th>\n",
              "      <th>sex</th>\n",
              "      <th>observation</th>\n",
              "      <th>constit_id</th>\n",
              "    </tr>\n",
              "  </thead>\n",
              "  <tbody>\n",
              "    <tr>\n",
              "      <th>16</th>\n",
              "      <td>E14000530</td>\n",
              "      <td>2</td>\n",
              "      <td>1</td>\n",
              "      <td>1</td>\n",
              "      <td>543</td>\n",
              "      <td>1</td>\n",
              "    </tr>\n",
              "    <tr>\n",
              "      <th>17</th>\n",
              "      <td>E14000530</td>\n",
              "      <td>2</td>\n",
              "      <td>1</td>\n",
              "      <td>2</td>\n",
              "      <td>737</td>\n",
              "      <td>1</td>\n",
              "    </tr>\n",
              "    <tr>\n",
              "      <th>18</th>\n",
              "      <td>E14000530</td>\n",
              "      <td>2</td>\n",
              "      <td>2</td>\n",
              "      <td>1</td>\n",
              "      <td>475</td>\n",
              "      <td>1</td>\n",
              "    </tr>\n",
              "    <tr>\n",
              "      <th>19</th>\n",
              "      <td>E14000530</td>\n",
              "      <td>2</td>\n",
              "      <td>2</td>\n",
              "      <td>2</td>\n",
              "      <td>932</td>\n",
              "      <td>1</td>\n",
              "    </tr>\n",
              "    <tr>\n",
              "      <th>20</th>\n",
              "      <td>E14000530</td>\n",
              "      <td>2</td>\n",
              "      <td>3</td>\n",
              "      <td>1</td>\n",
              "      <td>1384</td>\n",
              "      <td>1</td>\n",
              "    </tr>\n",
              "  </tbody>\n",
              "</table>\n",
              "</div>"
            ],
            "text/plain": [
              "   constit_code  age_group  education_level  sex  observation  constit_id\n",
              "16    E14000530          2                1    1          543           1\n",
              "17    E14000530          2                1    2          737           1\n",
              "18    E14000530          2                2    1          475           1\n",
              "19    E14000530          2                2    2          932           1\n",
              "20    E14000530          2                3    1         1384           1"
            ]
          },
          "execution_count": 3,
          "metadata": {},
          "output_type": "execute_result"
        }
      ],
      "source": [
        "file_path = '/Users/reedgarvin/Documents/GitHub/uk-2019-mrp/02_data/custom-filtered-2024-03-26T15-59-40Z.csv'\n",
        "df = pd.read_csv(file_path)\n",
        "\n",
        "# Standardizing column names\n",
        "df.columns = [\n",
        "    'constit_code',\n",
        "    'Constituency',\n",
        "    'age_group',\n",
        "    'Age',\n",
        "    'education_level',\n",
        "    'Qualification',\n",
        "    'Sex_Code',\n",
        "    'Sex',\n",
        "    'observation'\n",
        "]\n",
        "\n",
        "# Filter the DataFrame to keep only the code columns and 'Observation'\n",
        "filtered_columns_df = df[['constit_code', 'age_group', 'education_level', 'Sex_Code', 'observation']]\n",
        "filtered_columns_df = filtered_columns_df.rename(columns={'Sex_Code': 'sex'})\n",
        "# Filter out respondents under 16\n",
        "# and those with a Qualification_Code of -8 as they are all under 16\n",
        "df = filtered_columns_df.copy()\n",
        "df.loc[:, 'education_level'] += 1\n",
        "df = df[(df['age_group'] > 1) & (df['education_level'] != -7)]\n",
        "df.head()\n",
        "#Create an ID for the Constituencies\n",
        "df['constit_code'] = df['constit_code'].astype(str)\n",
        "factor = pd.factorize(df['constit_code'])[0]+1\n",
        "df['constit_id'] = factor\n",
        "df.head()"
      ]
    },
    {
      "cell_type": "code",
      "execution_count": 4,
      "metadata": {
        "colab": {
          "base_uri": "https://localhost:8080/"
        },
        "id": "v5zHXGMdyRQr",
        "outputId": "ebda3a48-94be-433b-c090-9619ff60fdfe"
      },
      "outputs": [
        {
          "data": {
            "text/html": [
              "<div>\n",
              "<style scoped>\n",
              "    .dataframe tbody tr th:only-of-type {\n",
              "        vertical-align: middle;\n",
              "    }\n",
              "\n",
              "    .dataframe tbody tr th {\n",
              "        vertical-align: top;\n",
              "    }\n",
              "\n",
              "    .dataframe thead th {\n",
              "        text-align: right;\n",
              "    }\n",
              "</style>\n",
              "<table border=\"1\" class=\"dataframe\">\n",
              "  <thead>\n",
              "    <tr style=\"text-align: right;\">\n",
              "      <th></th>\n",
              "      <th>finalserialno</th>\n",
              "      <th>agency</th>\n",
              "      <th>Y10A</th>\n",
              "      <th>Y10B1</th>\n",
              "      <th>Y10B2</th>\n",
              "      <th>Y10B3</th>\n",
              "      <th>Y10B4</th>\n",
              "      <th>Y10B5</th>\n",
              "      <th>a01</th>\n",
              "      <th>a01_code</th>\n",
              "      <th>...</th>\n",
              "      <th>pano</th>\n",
              "      <th>validation_summary</th>\n",
              "      <th>validated_turnout</th>\n",
              "      <th>wt_demog</th>\n",
              "      <th>wt_vote</th>\n",
              "      <th>wt_demog_f2f</th>\n",
              "      <th>wt_vote_f2f</th>\n",
              "      <th>wt_demog_cses</th>\n",
              "      <th>wt_vote_cses</th>\n",
              "      <th>wt_vote_valid</th>\n",
              "    </tr>\n",
              "  </thead>\n",
              "  <tbody>\n",
              "    <tr>\n",
              "      <th>0</th>\n",
              "      <td>10102</td>\n",
              "      <td>Ipsos</td>\n",
              "      <td>NaN</td>\n",
              "      <td>NaN</td>\n",
              "      <td>NaN</td>\n",
              "      <td>NaN</td>\n",
              "      <td>NaN</td>\n",
              "      <td>NaN</td>\n",
              "      <td>-2</td>\n",
              "      <td>NaN</td>\n",
              "      <td>...</td>\n",
              "      <td>75</td>\n",
              "      <td>Not voted-registered</td>\n",
              "      <td>Did not vote</td>\n",
              "      <td>0.530641</td>\n",
              "      <td>0.926940</td>\n",
              "      <td>0.648923</td>\n",
              "      <td>1.011936</td>\n",
              "      <td>0.493209</td>\n",
              "      <td>1.083466</td>\n",
              "      <td>1.109619</td>\n",
              "    </tr>\n",
              "    <tr>\n",
              "      <th>1</th>\n",
              "      <td>10103</td>\n",
              "      <td>NaN</td>\n",
              "      <td>2.0</td>\n",
              "      <td>Yes</td>\n",
              "      <td>No</td>\n",
              "      <td>No</td>\n",
              "      <td>No</td>\n",
              "      <td>No</td>\n",
              "      <td></td>\n",
              "      <td>NaN</td>\n",
              "      <td>...</td>\n",
              "      <td>75</td>\n",
              "      <td>NaN</td>\n",
              "      <td>NaN</td>\n",
              "      <td>NaN</td>\n",
              "      <td>NaN</td>\n",
              "      <td>NaN</td>\n",
              "      <td>NaN</td>\n",
              "      <td>NaN</td>\n",
              "      <td>NaN</td>\n",
              "      <td>NaN</td>\n",
              "    </tr>\n",
              "    <tr>\n",
              "      <th>2</th>\n",
              "      <td>10105</td>\n",
              "      <td>NaN</td>\n",
              "      <td>2.0</td>\n",
              "      <td>Yes</td>\n",
              "      <td>No</td>\n",
              "      <td>No</td>\n",
              "      <td>No</td>\n",
              "      <td>No</td>\n",
              "      <td></td>\n",
              "      <td>NaN</td>\n",
              "      <td>...</td>\n",
              "      <td>75</td>\n",
              "      <td>Insufficient information</td>\n",
              "      <td>NaN</td>\n",
              "      <td>1.061282</td>\n",
              "      <td>0.920836</td>\n",
              "      <td>NaN</td>\n",
              "      <td>NaN</td>\n",
              "      <td>0.986419</td>\n",
              "      <td>0.898993</td>\n",
              "      <td>NaN</td>\n",
              "    </tr>\n",
              "    <tr>\n",
              "      <th>3</th>\n",
              "      <td>10110</td>\n",
              "      <td>Ipsos</td>\n",
              "      <td>NaN</td>\n",
              "      <td>NaN</td>\n",
              "      <td>NaN</td>\n",
              "      <td>NaN</td>\n",
              "      <td>NaN</td>\n",
              "      <td>NaN</td>\n",
              "      <td>-1</td>\n",
              "      <td>NaN</td>\n",
              "      <td>...</td>\n",
              "      <td>75</td>\n",
              "      <td>Not voted-unregistered</td>\n",
              "      <td>Did not vote</td>\n",
              "      <td>0.762602</td>\n",
              "      <td>1.197730</td>\n",
              "      <td>0.794949</td>\n",
              "      <td>1.161902</td>\n",
              "      <td>NaN</td>\n",
              "      <td>NaN</td>\n",
              "      <td>1.784246</td>\n",
              "    </tr>\n",
              "    <tr>\n",
              "      <th>4</th>\n",
              "      <td>10111</td>\n",
              "      <td>Ipsos</td>\n",
              "      <td>NaN</td>\n",
              "      <td>NaN</td>\n",
              "      <td>NaN</td>\n",
              "      <td>NaN</td>\n",
              "      <td>NaN</td>\n",
              "      <td>NaN</td>\n",
              "      <td>-1</td>\n",
              "      <td>NaN</td>\n",
              "      <td>...</td>\n",
              "      <td>75</td>\n",
              "      <td>NaN</td>\n",
              "      <td>NaN</td>\n",
              "      <td>1.274022</td>\n",
              "      <td>1.979724</td>\n",
              "      <td>1.494537</td>\n",
              "      <td>2.152356</td>\n",
              "      <td>NaN</td>\n",
              "      <td>NaN</td>\n",
              "      <td>NaN</td>\n",
              "    </tr>\n",
              "  </tbody>\n",
              "</table>\n",
              "<p>5 rows × 422 columns</p>\n",
              "</div>"
            ],
            "text/plain": [
              "   finalserialno agency  Y10A Y10B1 Y10B2 Y10B3 Y10B4 Y10B5 a01 a01_code  ...   \n",
              "0          10102  Ipsos   NaN   NaN   NaN   NaN   NaN   NaN  -2      NaN  ...  \\\n",
              "1          10103    NaN   2.0   Yes    No    No    No    No          NaN  ...   \n",
              "2          10105    NaN   2.0   Yes    No    No    No    No          NaN  ...   \n",
              "3          10110  Ipsos   NaN   NaN   NaN   NaN   NaN   NaN  -1      NaN  ...   \n",
              "4          10111  Ipsos   NaN   NaN   NaN   NaN   NaN   NaN  -1      NaN  ...   \n",
              "\n",
              "  pano        validation_summary validated_turnout  wt_demog   wt_vote   \n",
              "0   75      Not voted-registered      Did not vote  0.530641  0.926940  \\\n",
              "1   75                       NaN               NaN       NaN       NaN   \n",
              "2   75  Insufficient information               NaN  1.061282  0.920836   \n",
              "3   75    Not voted-unregistered      Did not vote  0.762602  1.197730   \n",
              "4   75                       NaN               NaN  1.274022  1.979724   \n",
              "\n",
              "  wt_demog_f2f wt_vote_f2f wt_demog_cses wt_vote_cses wt_vote_valid  \n",
              "0     0.648923    1.011936      0.493209     1.083466      1.109619  \n",
              "1          NaN         NaN           NaN          NaN           NaN  \n",
              "2          NaN         NaN      0.986419     0.898993           NaN  \n",
              "3     0.794949    1.161902           NaN          NaN      1.784246  \n",
              "4     1.494537    2.152356           NaN          NaN           NaN  \n",
              "\n",
              "[5 rows x 422 columns]"
            ]
          },
          "execution_count": 4,
          "metadata": {},
          "output_type": "execute_result"
        }
      ],
      "source": [
        "# Load the Stata file\n",
        "df_2019_survey_imported = pd.read_stata('/Users/reedgarvin/Documents/GitHub/uk-2019-mrp/02_data/bes_rps_2019_1.3.0.dta')\n",
        "\n",
        "\n",
        "df_2019_survey_imported.head()\n"
      ]
    },
    {
      "cell_type": "markdown",
      "metadata": {
        "id": "urg7F7CzD5NC"
      },
      "source": [
        "###Survey Data Clean Up"
      ]
    },
    {
      "cell_type": "code",
      "execution_count": 5,
      "metadata": {
        "id": "SXxycdwrEKUP"
      },
      "outputs": [],
      "source": [
        "df_2019_survey = df_2019_survey_imported[~df_2019_survey_imported['country'].isin(['Scotland', 'Northern Ireland', 'Not Stated', 'Other'])]\n",
        "df_2019_survey = df_2019_survey.dropna(subset=['country'])"
      ]
    },
    {
      "cell_type": "code",
      "execution_count": 6,
      "metadata": {
        "colab": {
          "base_uri": "https://localhost:8080/"
        },
        "id": "kN4-_XjRD3xn",
        "outputId": "e1814525-9c56-43e9-936b-27fd727d6524"
      },
      "outputs": [
        {
          "name": "stdout",
          "output_type": "stream",
          "text": [
            "   age_group  sex  education_level  vote  voted\n",
            "2          2    1                5     1      1\n",
            "5          4    2                3     2      1\n",
            "6          2    1                5     2      1\n",
            "7          4    2                6     2      1\n",
            "8          4    2                5     2      1\n"
          ]
        }
      ],
      "source": [
        "# Define the bins and labels according to the specified age groups\n",
        "bins = [0, 15, 25, 35, 50, 65, float('inf')]  # 'float('inf')' represents infinity for ages 65 and over\n",
        "labels = [0, 1, 2, 3, 4, 5]  # Corresponding labels for each age group\n",
        "# Filter out 'Not stated' and 'Refusal' categories from the 'Age' column\n",
        "df_2019_survey = df_2019_survey[~df_2019_survey['Age'].isin(['Not stated', 'Refusal', 0])]\n",
        "\n",
        "\n",
        "# Apply binning and labeling to the 'Age' column\n",
        "df_2019_survey['age_group'] = pd.cut(df_2019_survey['Age'], bins=bins, labels=labels, right=False)\n",
        "df_2019_survey['age_group'] = df_2019_survey['age_group'].astype(int)\n",
        "# Filter out rows where sex is not 'Female' or 'Male' from the 'y09' column\n",
        "df_2019_survey = df_2019_survey[df_2019_survey['y09'].isin(['Female', 'Male'])]\n",
        "# Map 'Female' to 1 and 'Male' to 2 in a new column called 'Gender'\n",
        "df_2019_survey['sex'] = df_2019_survey['y09'].map({'Female': 1, 'Male': 2}).astype(int)\n",
        "\n",
        "# Mapping from old names to new codes\n",
        "education_mapping = {\n",
        "    'No qualification': 1,\n",
        "    'Postgraduate degree': 5,\n",
        "    'First degree': 5,\n",
        "    'University/Polytechnic diploma': 5,\n",
        "    'Teaching qualification': 5,\n",
        "    'Nursing qualification': 5,\n",
        "    'HNC/HND, City&Guilds level 4, NVQ/SVQ 4/5': 5,\n",
        "    'A level or equivalent': 4,\n",
        "    'Scottish Higher or equivalent': 3,\n",
        "    'ONC/OND, City&Guilds level 3, NVQ/SVQ 3': 3,\n",
        "    'GCSE A*-C, CSE grade 1, O level grade A-C': 3,\n",
        "    'Scottish Standard grades, Ordinary bands': 2,\n",
        "    'GCSE D-G, CSE grades 2-5, O level D-E': 2,\n",
        "    'City&Guilds level 2, NVQ/SVQ 2 and equiv': 2,\n",
        "    'City&Guilds level 1, NVQ/SVQ 1 and equiv': 2,\n",
        "    'Clerical and commercial qualifications': 6,\n",
        "    'Recognised trade apprenticeship': 6,\n",
        "    'Youth training certificate, skill seekers': 6,\n",
        "    'Other technical, professional or higher qualification': 6,\n",
        "    'None of these': 6\n",
        "}\n",
        "df_2019_survey = df_2019_survey.dropna(subset=['education'])\n",
        "# Remove rows with 'Prefer not to say', 'Dont know'\n",
        "df_2019_survey = df_2019_survey[~df_2019_survey['education'].isin(['Prefer not to say', 'Dont know'])]\n",
        "\n",
        "# Map the old education descriptions to the new codes\n",
        "df_2019_survey['education_level'] = df_2019_survey['education'].map(education_mapping)\n",
        "\n",
        "df_2019_survey = df_2019_survey.dropna(subset=['education_level'])\n",
        "df_2019_survey['education_level'] = df_2019_survey['education_level'].astype(int)\n",
        "# Remove rows with 'Prefer not to say', 'Dont know'\n",
        "df_2019_survey = df_2019_survey[~df_2019_survey['b02'].isin(['Prefer not to say', 'Dont know'])]\n",
        "# A mapping of party names to numerical values\n",
        "party_mapping = {\n",
        "    'Labour Party': 1,\n",
        "    'Conservative Party': 2,\n",
        "    'Liberal Democrats': 3,\n",
        "    'Scottish National Party': 4,\n",
        "    'Plaid Cymru': 4,\n",
        "    'Green Party': 4,\n",
        "    'United Kingdom Independence Party (UKIP)': 4,\n",
        "    'Brexit Party': 4,\n",
        "    'Other': 4,\n",
        "    'An independent candidate': 4,\n",
        "    'Specified name- no party mentioned': 4,\n",
        "    'Spoilt ballot paper': 4,\n",
        "    'None': 4,\n",
        "}\n",
        "df_2019_survey['vote'] = df_2019_survey['b02'].map(party_mapping)\n",
        "df_2019_survey = df_2019_survey.dropna(subset=['vote'])\n",
        "df_2019_survey['vote'] = df_2019_survey['vote'].astype(int)\n",
        "\n",
        "# A mapping of wheter someone voted in a binary\n",
        "df_2019_survey = df_2019_survey[~df_2019_survey['b01'].isin(['Prefer not to say', 'Dont know'])]\n",
        "voted_maping = {\n",
        "    'Yes, voted' : 1,\n",
        "    'No, did not vote' : 0\n",
        "}\n",
        "df_2019_survey['voted'] = df_2019_survey['b01'].map(voted_maping)\n",
        "df_2019_survey = df_2019_survey.dropna(subset=['voted'])\n",
        "df_2019_survey['voted'] = df_2019_survey['voted'].astype(int)\n",
        "\n",
        "# Display the first few rows to verify the transformation\n",
        "print(df_2019_survey[['age_group', 'sex', 'education_level', 'vote', 'voted']].head())"
      ]
    },
    {
      "cell_type": "markdown",
      "metadata": {
        "id": "Tlwd5tIneGL4"
      },
      "source": [
        "##Creating Interaction Terms and Preparing Stan"
      ]
    },
    {
      "cell_type": "code",
      "execution_count": 7,
      "metadata": {
        "id": "LUuc1Sxg_60u"
      },
      "outputs": [],
      "source": [
        "# Create interaction terms\n",
        "df_2019_survey['age_edu'] = df_2019_survey['age_group'].astype(str) + \"_\" + df_2019_survey['education_level'].astype(str)\n",
        "df_2019_survey['age_sex'] = df_2019_survey['age_group'].astype(str) + \"_\" + df_2019_survey['sex'].astype(str)\n",
        "df_2019_survey['edu_sex'] = df_2019_survey['education_level'].astype(str) + \"_\" + df_2019_survey['sex'].astype(str)\n",
        "\n",
        "# Encode interactions\n",
        "encoder_age_edu = LabelEncoder().fit(df_2019_survey['age_edu'])\n",
        "df_2019_survey['age_edu'] = encoder_age_edu.transform(df_2019_survey['age_edu']) + 1\n",
        "\n",
        "encoder_age_sex = LabelEncoder().fit(df_2019_survey['age_sex'])\n",
        "df_2019_survey['age_sex'] = encoder_age_sex.transform(df_2019_survey['age_sex']) + 1\n",
        "\n",
        "encoder_edu_sex = LabelEncoder().fit(df_2019_survey['edu_sex'])\n",
        "df_2019_survey['edu_sex'] = encoder_edu_sex.transform(df_2019_survey['edu_sex']) + 1\n",
        "\n",
        "# Prepare Stan data\n",
        "stan_data = {\n",
        "    'N': df_2019_survey.shape[0],\n",
        "    'K': df_2019_survey['vote'].nunique(),\n",
        "    'J_age': df_2019_survey['age_group'].nunique(),\n",
        "    'J_edu': df_2019_survey['education_level'].nunique(),\n",
        "    'J_sex': df_2019_survey['sex'].nunique(),\n",
        "    'J_age_edu': df_2019_survey['age_edu'].nunique(),\n",
        "    'J_age_sex': df_2019_survey['age_sex'].nunique(),\n",
        "    'J_edu_sex': df_2019_survey['edu_sex'].nunique(),\n",
        "    'age': df_2019_survey['age_group'].values,\n",
        "    'edu': df_2019_survey['education_level'].values,\n",
        "    'sex': df_2019_survey['sex'].values,\n",
        "    'age_edu': df_2019_survey['age_edu'].values,\n",
        "    'age_sex': df_2019_survey['age_sex'].values,\n",
        "    'edu_sex': df_2019_survey['edu_sex'].values,\n",
        "    'vote': df_2019_survey['vote'].values,\n",
        "    'voted': df_2019_survey['voted'].values\n",
        "}"
      ]
    },
    {
      "cell_type": "code",
      "execution_count": 8,
      "metadata": {
        "id": "AOpVXATTJA6M"
      },
      "outputs": [],
      "source": [
        "stan_program = \"\"\"\n",
        "data {\n",
        "  int<lower=0> N; // Number of observations\n",
        "  int<lower=1> K; // Number of parties, including 'Other'\n",
        "  int<lower=1> J_age; // Number of age groups\n",
        "  int<lower=1> J_edu; // Number of education levels\n",
        "  int<lower=1> J_sex; // Number of sex categories\n",
        "  // Interaction terms\n",
        "  int<lower=1> J_age_edu;\n",
        "  int<lower=1> J_age_sex;\n",
        "  int<lower=1> J_edu_sex;\n",
        "  // Data\n",
        "  array[N] int<lower=1, upper=J_age> age;\n",
        "  array[N] int<lower=1, upper=J_edu> edu;\n",
        "  array[N] int<lower=1, upper=J_sex> sex;\n",
        "  array[N] int<lower=1, upper=J_age_edu> age_edu;\n",
        "  array[N] int<lower=1, upper=J_age_sex> age_sex;\n",
        "  array[N] int<lower=1, upper=J_edu_sex> edu_sex;\n",
        "  array[N] int<lower=0, upper=1> voted; // 1 if voted, 0 otherwise\n",
        "  array[N] int<lower=1, upper=K> vote; // Party voted for, including 'Other'\n",
        "}\n",
        "parameters {\n",
        "  // Voting preferences\n",
        "  vector[K] beta_party; // Base preference for each party, including 'Other'\n",
        "  // Turnout\n",
        "  real alpha_turnout; // Base turnout intercept\n",
        "  vector[J_age] beta_age_turnout;\n",
        "  vector[J_edu] beta_edu_turnout;\n",
        "  vector[J_sex] beta_sex_turnout;\n",
        "  // Interactions\n",
        "  vector[J_age_edu] beta_age_edu; // Voting preference interactions\n",
        "  vector[J_age_sex] beta_age_sex;\n",
        "  vector[J_edu_sex] beta_edu_sex;\n",
        "  // Effects on voting for each party, including 'Other'\n",
        "  matrix[K, J_age] gamma_age;\n",
        "  matrix[K, J_edu] gamma_edu;\n",
        "  matrix[K, J_sex] gamma_sex;\n",
        "}\n",
        "model {\n",
        "  // Priors\n",
        "  beta_party ~ normal(0, 2.5);\n",
        "  alpha_turnout ~ normal(0, 2.5);\n",
        "  beta_age_turnout ~ normal(0, 2.5);\n",
        "  beta_edu_turnout ~ normal(0, 2.5);\n",
        "  beta_sex_turnout ~ normal(0, 2.5);\n",
        "  beta_age_edu ~ normal(0, 2.5);\n",
        "  beta_age_sex ~ normal(0, 2.5);\n",
        "  beta_edu_sex ~ normal(0, 2.5);\n",
        "  for (k in 1:K) {\n",
        "    gamma_age[k] ~ normal(0, 2.5);\n",
        "    gamma_edu[k] ~ normal(0, 2.5);\n",
        "    gamma_sex[k] ~ normal(0, 2.5);\n",
        "  }\n",
        "\n",
        "  // Likelihood\n",
        "  for (n in 1:N) {\n",
        "    // Turnout model\n",
        "    real turnout_logit = alpha_turnout + beta_age_turnout[age[n]] + beta_edu_turnout[edu[n]] +\n",
        "                         beta_sex_turnout[sex[n]];\n",
        "    voted[n] ~ bernoulli_logit(turnout_logit);\n",
        "\n",
        "    // Voting preference model (conditional on having voted)\n",
        "    if (voted[n] == 1) {\n",
        "      vector[K] vote_logit = beta_party +\n",
        "                             beta_age_edu[age_edu[n]] +\n",
        "                             beta_age_sex[age_sex[n]] +\n",
        "                             beta_edu_sex[edu_sex[n]] +\n",
        "                             to_vector(gamma_age[:, age[n]]) +\n",
        "                             to_vector(gamma_edu[:, edu[n]]) +\n",
        "                             to_vector(gamma_sex[:, sex[n]]);\n",
        "      vote[n] ~ categorical_logit(vote_logit);\n",
        "    }\n",
        "  }\n",
        "}\n",
        "\"\"\""
      ]
    },
    {
      "cell_type": "code",
      "execution_count": null,
      "metadata": {
        "id": "kRLtDBjgPN7o"
      },
      "outputs": [],
      "source": [
        "# Saving the Stan model to a file\n",
        "stan_model_file = 'model.stan'\n",
        "with open(stan_model_file, 'w') as file:\n",
        "    file.write(stan_program)"
      ]
    },
    {
      "cell_type": "markdown",
      "metadata": {
        "id": "orrtVK5HeMuH"
      },
      "source": [
        "##Running and Analzying the Model"
      ]
    },
    {
      "cell_type": "code",
      "execution_count": 9,
      "metadata": {
        "colab": {
          "base_uri": "https://localhost:8080/"
        },
        "id": "CBFm21JjPQAX",
        "outputId": "ddf543b9-84e6-4e7e-8873-00c5a3ec03b1"
      },
      "outputs": [
        {
          "name": "stderr",
          "output_type": "stream",
          "text": [
            "09:31:08 - cmdstanpy - INFO - compiling stan file /Users/reedgarvin/Documents/GitHub/uk-2019-mrp/01_code/model.stan to exe file /Users/reedgarvin/Documents/GitHub/uk-2019-mrp/01_code/model\n",
            "09:31:18 - cmdstanpy - INFO - compiled model executable: /Users/reedgarvin/Documents/GitHub/uk-2019-mrp/01_code/model\n"
          ]
        }
      ],
      "source": [
        "#Loading the saved Stan Model\n",
        "model = CmdStanModel(stan_file='/Users/reedgarvin/Documents/GitHub/uk-2019-mrp/01_code/model.stan')"
      ]
    },
    {
      "cell_type": "code",
      "execution_count": 12,
      "metadata": {
        "colab": {
          "base_uri": "https://localhost:8080/",
          "height": 1000,
          "referenced_widgets": [
            "399d674146b44c7ead1b3be106510495",
            "d23bedfb954e443ba335fa4dd973f748",
            "09efbad656534e3380dcef9c117e2144",
            "6d47e6f5012b40f4bed418418956b001",
            "63ac9b76a9df473f92c2bd7e00b74a82",
            "9fcd2876238047cda31b256743241c87",
            "7c9d5d0fd2f245fc9ac770458800e5bc",
            "c0b69b56a1984b808814fd36e93f27d4",
            "4b71ded4c234448a987838e75915ea5c",
            "64fe448969494350805f2479cc796c3d",
            "1aa19152fdaf45d08c586cd1dc87a680",
            "a51b48f07911493baeb4ca75278e3b6e",
            "1925905a539746d1afa0a6842733d625",
            "0496594eca534ee09e8ed3d3707610e4",
            "879f9088ae3c4968911c6b416df95c2b",
            "143c02725fc74490b8355d5c2b6f97a9",
            "8bfb009a08b34026896b96ff1f1d71fa",
            "ac1437f408ff4ea5a5d6bcec069af866",
            "5f54db99de65442ba08b26686244dd3e",
            "cb8a69ca0c014943a13277e005bfe853",
            "07137121932e4e3bb1919b4adc8d351a",
            "fe2f2280418e4864b9a5dfac02214c7f",
            "2b9b89737695447d874f31072f176baf",
            "ddb24619af224ee48ae399eafd52342d",
            "d44d943688f94a108cb8db0d4faf0bfb",
            "78603dcce6754cfe86d3b83515646dd6",
            "a552f64c59b341eab4e9dd7b30f7c76b",
            "ca8be5401f3142a88ac79fdae86e2eb3",
            "9a4dea60d5694a7f8c4cc69e62ad4c9c",
            "d100a20c527441a6a9f9c892381a2ef8",
            "b8d019dc16254e169214b56d397cf677",
            "29449d19105447baa29b908a332bb5bc",
            "2f48f73eccab49d383a821171141c05f",
            "056778020afa40d6861dcf8f8be16b35",
            "6ef5f542ab004295be60a5cd5baa9cda",
            "dae958e8ef434eafb6afd0128334f697",
            "1a51170ebad14e389a45526b2c44a24b",
            "e916e86140554a4883c70e13e359f62c",
            "40fcbf2028784b49880ca3639255321c",
            "2b9ba421a3cb4d3fa24ace12a3894f5a",
            "4579111a37374ede89ebcb24bf76e421",
            "93a78a594487477da514a749ec5dbea5",
            "c959280d0a504652b6e114c623d10946",
            "da9e64ca6a754acfb89d94a5178c3b98"
          ]
        },
        "id": "ozVd-iBGPgRJ",
        "outputId": "a3f16a49-98f4-47b6-90c8-520c88bc8329"
      },
      "outputs": [
        {
          "name": "stderr",
          "output_type": "stream",
          "text": [
            "09:31:32 - cmdstanpy - INFO - CmdStan start processing\n"
          ]
        },
        {
          "data": {
            "application/vnd.jupyter.widget-view+json": {
              "model_id": "afe8a49b8d6e42a18beb6f4093a8dfbb",
              "version_major": 2,
              "version_minor": 0
            },
            "text/plain": [
              "chain 1 |          | 00:00 Status"
            ]
          },
          "metadata": {},
          "output_type": "display_data"
        },
        {
          "data": {
            "application/vnd.jupyter.widget-view+json": {
              "model_id": "6bf6b9f318354790abfa58ae5b8835b1",
              "version_major": 2,
              "version_minor": 0
            },
            "text/plain": [
              "chain 2 |          | 00:00 Status"
            ]
          },
          "metadata": {},
          "output_type": "display_data"
        },
        {
          "data": {
            "application/vnd.jupyter.widget-view+json": {
              "model_id": "2338bc9b27a94a28b4909cd16571f326",
              "version_major": 2,
              "version_minor": 0
            },
            "text/plain": [
              "chain 3 |          | 00:00 Status"
            ]
          },
          "metadata": {},
          "output_type": "display_data"
        },
        {
          "data": {
            "application/vnd.jupyter.widget-view+json": {
              "model_id": "4564e67ab5cf468196463ebd24968834",
              "version_major": 2,
              "version_minor": 0
            },
            "text/plain": [
              "chain 4 |          | 00:00 Status"
            ]
          },
          "metadata": {},
          "output_type": "display_data"
        },
        {
          "name": "stdout",
          "output_type": "stream",
          "text": [
            "                                                                                                                                                                                                                                                                                                                                "
          ]
        },
        {
          "name": "stderr",
          "output_type": "stream",
          "text": [
            "10:17:09 - cmdstanpy - INFO - CmdStan done processing.\n"
          ]
        },
        {
          "name": "stdout",
          "output_type": "stream",
          "text": [
            "\n"
          ]
        }
      ],
      "source": [
        "#Fitting the model\n",
        "fit = model.sample(data=stan_data,\n",
        "                   chains=4,\n",
        "                   parallel_chains=4,\n",
        "                   iter_warmup=500,\n",
        "                   iter_sampling=1000,\n",
        "                   refresh = 50,\n",
        "                   output_dir ='',\n",
        "                   )\n"
      ]
    },
    {
      "cell_type": "code",
      "execution_count": 13,
      "metadata": {
        "colab": {
          "base_uri": "https://localhost:8080/"
        },
        "id": "N2o1Hp7Nj7zI",
        "outputId": "e3339007-e829-44f7-97b1-397bef198fcf"
      },
      "outputs": [
        {
          "name": "stdout",
          "output_type": "stream",
          "text": [
            "                       Mean      MCSE   StdDev          5%          50%   \n",
            "lp__           -2846.880000  0.188766  7.82358 -2860.25000 -2846.660000  \\\n",
            "beta_party[1]      0.427572  0.030166  1.94453    -2.78131     0.438659   \n",
            "beta_party[2]      0.533546  0.029198  1.96019    -2.85006     0.556418   \n",
            "beta_party[3]     -0.371262  0.027888  1.94861    -3.55674    -0.397023   \n",
            "beta_party[4]     -0.528502  0.028001  1.93147    -3.70108    -0.525631   \n",
            "...                     ...       ...      ...         ...          ...   \n",
            "gamma_sex[2,2]     0.305473  0.029171  1.79828    -2.69004     0.326968   \n",
            "gamma_sex[3,1]    -0.176668  0.027304  1.81381    -3.15436    -0.168754   \n",
            "gamma_sex[3,2]    -0.105140  0.027200  1.81416    -3.07150    -0.101363   \n",
            "gamma_sex[4,1]    -0.301459  0.030341  1.85663    -3.37115    -0.291390   \n",
            "gamma_sex[4,2]    -0.266606  0.029268  1.80379    -3.19748    -0.279769   \n",
            "\n",
            "                       95%    N_Eff   N_Eff/s     R_hat  \n",
            "lp__           -2834.61000  1717.76  0.202195  1.002160  \n",
            "beta_party[1]      3.61260  4155.36  0.489123  1.000570  \n",
            "beta_party[2]      3.69528  4507.10  0.530526  0.999764  \n",
            "beta_party[3]      2.86564  4882.34  0.574695  0.999843  \n",
            "beta_party[4]      2.59490  4758.18  0.560081  0.999685  \n",
            "...                    ...      ...       ...       ...  \n",
            "gamma_sex[2,2]     3.25280  3800.18  0.447315  1.000530  \n",
            "gamma_sex[3,1]     2.82194  4412.99  0.519449  0.999509  \n",
            "gamma_sex[3,2]     2.86191  4448.35  0.523610  0.999456  \n",
            "gamma_sex[4,1]     2.76932  3744.52  0.440764  0.999277  \n",
            "gamma_sex[4,2]     2.76836  3798.35  0.447100  0.999424  \n",
            "\n",
            "[123 rows x 9 columns]\n"
          ]
        }
      ],
      "source": [
        "#Print a summary of the posterior samples and save posterior sample files\n",
        "summary = fit.summary()\n",
        "print(summary)\n"
      ]
    },
    {
      "cell_type": "code",
      "execution_count": 14,
      "metadata": {
        "colab": {
          "base_uri": "https://localhost:8080/",
          "height": 157
        },
        "id": "g_EXb5slvROq",
        "outputId": "82ca44a7-3b0d-45ef-dbb6-7c10e70902de"
      },
      "outputs": [
        {
          "data": {
            "text/plain": [
              "'Processing csv files: /Users/reedgarvin/Documents/GitHub/uk-2019-mrp/01_code/model-20240402093132_1.csv, /Users/reedgarvin/Documents/GitHub/uk-2019-mrp/01_code/model-20240402093132_2.csv, /Users/reedgarvin/Documents/GitHub/uk-2019-mrp/01_code/model-20240402093132_3.csv, /Users/reedgarvin/Documents/GitHub/uk-2019-mrp/01_code/model-20240402093132_4.csv\\n\\nChecking sampler transitions treedepth.\\nTreedepth satisfactory for all transitions.\\n\\nChecking sampler transitions for divergences.\\nNo divergent transitions found.\\n\\nChecking E-BFMI - sampler transitions HMC potential energy.\\nE-BFMI satisfactory.\\n\\nEffective sample size satisfactory.\\n\\nSplit R-hat values satisfactory all parameters.\\n\\nProcessing complete, no problems detected.\\n'"
            ]
          },
          "execution_count": 14,
          "metadata": {},
          "output_type": "execute_result"
        }
      ],
      "source": [
        "fit.diagnose()"
      ]
    },
    {
      "cell_type": "code",
      "execution_count": 15,
      "metadata": {
        "id": "0ug3SxbFt0E1"
      },
      "outputs": [],
      "source": [
        "# Logistic transformation function\n",
        "def logistic(x):\n",
        "    return 1 / (1 + np.exp(-x))\n",
        "\n",
        "# Compute softmax Values\n",
        "def softmax(x):\n",
        "\n",
        "  e_x = np.exp(x - np.max(x))\n",
        "  return e_x / e_x.sum(axis=0)"
      ]
    },
    {
      "cell_type": "code",
      "execution_count": 16,
      "metadata": {
        "id": "SoIHM23bEDUk"
      },
      "outputs": [],
      "source": [
        "def calculate_cell_predictions(cell_data, posterior_draw):\n",
        "  \"\"\"Calculates predicted vote shares for a single cell and posterior draw.\"\"\"\n",
        "  party_betas = posterior_draw['beta_party']\n",
        "  gamma_age_party = posterior_draw['gamma_age']\n",
        "  gamma_edu_party = posterior_draw['gamma_edu']\n",
        "  gamma_sex_party = posterior_draw['gamma_sex']\n",
        "\n",
        "  linear_predictors = (party_betas +\n",
        "                       posterior_draw['beta_age_edu'][cell_data['age_edu']-1] +\n",
        "                       posterior_draw['beta_age_sex'][cell_data['age_sex']-1] +\n",
        "                       posterior_draw['beta_edu_sex'][cell_data['edu_sex']-1] +\n",
        "                       gamma_age_party[:, cell_data['age_group'] - 1] +\n",
        "                       gamma_edu_party[:, cell_data['education_level'] - 1] +\n",
        "                       gamma_sex_party[:, cell_data['sex'] - 1])\n",
        "\n",
        "  vote_share_probs = softmax(linear_predictors)\n",
        "  turnout_prob = logistic(posterior_draw['alpha_turnout'] +\n",
        "                          posterior_draw['beta_age_turnout'][cell_data['age_group'] - 1] +\n",
        "                          posterior_draw['beta_edu_turnout'][cell_data['education_level'] - 1] +\n",
        "                          posterior_draw['beta_sex_turnout'][cell_data['sex'] - 1])\n",
        "\n",
        "  predicted_vote_shares = vote_share_probs * turnout_prob\n",
        "  return predicted_vote_shares"
      ]
    },
    {
      "cell_type": "code",
      "execution_count": 17,
      "metadata": {
        "colab": {
          "base_uri": "https://localhost:8080/"
        },
        "id": "YpBtCDcfLm7X",
        "outputId": "154aa472-a816-4f81-a83a-1bb737a3dd6a"
      },
      "outputs": [],
      "source": [
        "#Extract posterior samples\n",
        "beta_party = fit.stan_variable('beta_party')\n",
        "alpha_turnout = fit.stan_variable('alpha_turnout')\n",
        "beta_age_turnout = fit.stan_variable('beta_age_turnout')\n",
        "beta_edu_turnout = fit.stan_variable('beta_edu_turnout')\n",
        "beta_sex_turnout = fit.stan_variable('beta_sex_turnout')\n",
        "beta_age_edu = fit.stan_variable('beta_age_edu')\n",
        "beta_age_sex = fit.stan_variable('beta_age_sex')\n",
        "beta_edu_sex = fit.stan_variable('beta_edu_sex')\n",
        "gamma_age = fit.stan_variable('gamma_age')\n",
        "gamma_edu = fit.stan_variable('gamma_edu')\n",
        "gamma_sex = fit.stan_variable('gamma_sex')"
      ]
    },
    {
      "cell_type": "code",
      "execution_count": 18,
      "metadata": {
        "colab": {
          "base_uri": "https://localhost:8080/"
        },
        "id": "D8cNp9gGQ-sH",
        "outputId": "9cdd5bb3-392e-4f10-e927-0cc29ed1da6b"
      },
      "outputs": [
        {
          "name": "stderr",
          "output_type": "stream",
          "text": [
            "Calculating Preferences: 100%|██████████| 34380/34380 [17:47<00:00, 32.19it/s]\n"
          ]
        }
      ],
      "source": [
        "def calculate_preferences(row, beta_party, alpha_turnout, beta_age_turnout, beta_edu_turnout, beta_sex_turnout, gamma_age, gamma_edu, gamma_sex):\n",
        "    draws = len(alpha_turnout)\n",
        "    # Initialize accumulators for turnout probability and party preferences\n",
        "    turnout_probs_accum = 0\n",
        "    party_prefs_accum = np.zeros(beta_party.shape[1])\n",
        "\n",
        "    for i in range(draws):\n",
        "        # Adjust indices used here; subtract 1 for 0-based indexing, ensure they are within bounds\n",
        "        age_index = max(0, min(row['age_group'] - 1, beta_age_turnout.shape[1] - 1))\n",
        "        edu_index = max(0, min(row['education_level'] - 1, beta_edu_turnout.shape[1] - 1))\n",
        "        sex_index = row['sex'] - 1  # 0 or 1 for male/female\n",
        "\n",
        "        # Calculate turnout logit and probability for this draw\n",
        "        turnout_logit = (alpha_turnout[i] + beta_age_turnout[i, age_index] + beta_edu_turnout[i, edu_index] +\n",
        "                         beta_sex_turnout[i, sex_index])\n",
        "        turnout_prob = logistic(turnout_logit)\n",
        "        turnout_probs_accum += turnout_prob\n",
        "\n",
        "        # Calculate party preference logits and probabilities for this draw\n",
        "        for k in range(beta_party.shape[1]):\n",
        "            base_logit = beta_party[i, k]\n",
        "            # Add demographic adjustments\n",
        "            age_adj = gamma_age[i, k, age_index]\n",
        "            edu_adj = gamma_edu[i, k, edu_index]\n",
        "            sex_adj = gamma_sex[i, k, sex_index]\n",
        "            party_logit = base_logit + age_adj + edu_adj + sex_adj\n",
        "            party_prefs_accum[k] += logistic(party_logit) * turnout_prob\n",
        "\n",
        "    # Normalize the accumulated probabilities over the draws\n",
        "    turnout_prob_avg = turnout_probs_accum / draws\n",
        "    party_prefs_avg = party_prefs_accum / draws\n",
        "\n",
        "    # Assign the averages to the row\n",
        "    row['adjusted_turnout_prob'] = turnout_prob_avg\n",
        "    for k in range(beta_party.shape[1]):\n",
        "        row[f'party_{k+1}_pref_prob'] = party_prefs_avg[k]\n",
        "\n",
        "    return row\n",
        "#Set up Progress bar\n",
        "tqdm.pandas(desc=\"Calculating Preferences\")\n",
        "#Call function\n",
        "df = df.progress_apply(calculate_preferences, axis=1, args=(beta_party, alpha_turnout, beta_age_turnout, beta_edu_turnout, beta_sex_turnout, gamma_age, gamma_edu, gamma_sex))"
      ]
    },
    {
      "cell_type": "code",
      "execution_count": 19,
      "metadata": {
        "id": "gCBbsFZgXFqv"
      },
      "outputs": [],
      "source": [
        "# Aggregate the data to calculate total expected votes for each party in each demographic cell\n",
        "aggregated_data = df.groupby(['constit_code', 'age_group', 'sex', 'education_level']).agg({\n",
        "    'party_1_pref_prob': 'sum',\n",
        "    'party_2_pref_prob': 'sum',\n",
        "    'party_3_pref_prob': 'sum',\n",
        "    'party_4_pref_prob': 'sum',\n",
        "    'adjusted_turnout_prob': 'sum'  # Sum of turnout probabilities might be useful for analysis\n",
        "}).reset_index()\n"
      ]
    },
    {
      "cell_type": "code",
      "execution_count": 20,
      "metadata": {
        "id": "o6myDAOFXNY4"
      },
      "outputs": [],
      "source": [
        "# Calculate the total expected votes in each cell as the sum of expected votes for all parties\n",
        "aggregated_data['total_expected_votes'] = aggregated_data[['party_1_pref_prob', 'party_2_pref_prob', 'party_3_pref_prob', 'party_4_pref_prob']].sum(axis=1)\n",
        "\n",
        "# Calculate the percentage of expected votes for each party\n",
        "for k in range(1, 5):  # Assuming 4 parties\n",
        "    aggregated_data[f'party_{k}_vote_percentage'] = 100 * aggregated_data[f'party_{k}_pref_prob'] / aggregated_data['total_expected_votes']"
      ]
    },
    {
      "cell_type": "code",
      "execution_count": 21,
      "metadata": {
        "colab": {
          "base_uri": "https://localhost:8080/",
          "height": 581
        },
        "id": "hHUI3EZjaO9d",
        "outputId": "6cd27af6-a385-4d2e-8dd7-5590ff228d88"
      },
      "outputs": [
        {
          "data": {
            "image/png": "[encoded data removed]",
            "text/plain": [
              "<Figure size 1000x600 with 1 Axes>"
            ]
          },
          "metadata": {},
          "output_type": "display_data"
        },
        {
          "data": {
            "text/plain": [
              "<Figure size 640x480 with 0 Axes>"
            ]
          },
          "metadata": {},
          "output_type": "display_data"
        }
      ],
      "source": [
        "# Aggregate data to calculate average estimated percentages for each party\n",
        "overall_estimates = aggregated_data[['party_1_vote_percentage', 'party_2_vote_percentage', 'party_3_vote_percentage', 'party_4_vote_percentage']].mean()\n",
        "\n",
        "# Plotting\n",
        "overall_estimates.plot(kind='bar', figsize=(10, 6))\n",
        "plt.title('Overall Estimated Vote Percentages by Party')\n",
        "plt.xlabel('Party')\n",
        "plt.ylabel('Estimated Vote Percentage')\n",
        "plt.xticks(range(len(overall_estimates.index)), ['Labour', 'Conservative', 'Liberal Democrats', 'Other'], rotation='horizontal')\n",
        "for i, v in enumerate(overall_estimates):\n",
        "    plt.text(i, v + 0.5, str(round(v, 1)) + '%', ha='center')\n",
        "plt.show()\n",
        "plt.savefig('estimated_vote_percentages.png')"
      ]
    },
    {
      "cell_type": "code",
      "execution_count": 29,
      "metadata": {
        "colab": {
          "base_uri": "https://localhost:8080/",
          "height": 449
        },
        "id": "Y8zkwLA-u_a5",
        "outputId": "b8ea64e5-0028-424a-8eb4-f61a76c59865"
      },
      "outputs": [
        {
          "data": {
            "image/png": "[encoded data removed]",
            "text/plain": [
              "<Figure size 640x480 with 1 Axes>"
            ]
          },
          "metadata": {},
          "output_type": "display_data"
        }
      ],
      "source": [
        "# @title education_level vs party_1_pref_prob\n",
        "#convet to ridge plot\n",
        "from matplotlib import pyplot as plt\n",
        "aggregated_data.plot(kind='scatter', x='age_group', y='party_1_pref_prob', s=32, alpha=.8)\n",
        "plt.gca().spines[['top', 'right',]].set_visible(False)"
      ]
    },
    {
      "cell_type": "markdown",
      "metadata": {
        "id": "nFDsu7W4dIcQ"
      },
      "source": [
        "##Scaling"
      ]
    },
    {
      "cell_type": "code",
      "execution_count": 33,
      "metadata": {
        "colab": {
          "base_uri": "https://localhost:8080/"
        },
        "id": "XTPz_OJN2oHx",
        "outputId": "f7b4ebda-eb9c-4ff2-a892-277ecfe6fd7c"
      },
      "outputs": [
        {
          "name": "stderr",
          "output_type": "stream",
          "text": [
            "/var/folders/vv/n1q76g7d4f35zzj1q47755yh0000gn/T/ipykernel_85019/2284665910.py:2: UnicodeWarning: \n",
            "One or more strings in the dta file could not be decoded using utf-8, and\n",
            "so the fallback encoding of latin-1 is being used.  This can happen when a file\n",
            "has been incorrectly encoded by Stata or some other software. You should verify\n",
            "the string values returned are correct.\n",
            "  df_results = pd.read_stata(file_path)\n"
          ]
        }
      ],
      "source": [
        "file_path = '/Users/reedgarvin/Documents/GitHub/uk-2019-mrp/02_data/BES-2019-General-Election-results-file-v1.1.dta'\n",
        "df_results = pd.read_stata(file_path)\n",
        "\n",
        "#Remove Scotland\n",
        "df_results_filtered = df_results[df_results['Country'] != 'Scotland']\n",
        "df_results_filtered = df_results_filtered.drop(['SNP19', 'SNPVote19'], axis=1)\n",
        "\n",
        "columns_to_retain = [\n",
        "    'ONSConstID','Winner19',\n",
        "    'Con19', 'Lab19', 'LD19', 'PC19', 'UKIP19', 'Green19', 'Brexit19', 'Other19',\n",
        "    'ConVote19', 'LabVote19', 'LDVote19', 'PCVote19', 'UKIPVote19', 'GreenVote19', 'BrexitVote19',\n",
        "    'TotalVote19', 'Electorate19'\n",
        "]\n",
        "\n",
        "df_results_filtered = df_results_filtered[columns_to_retain]\n",
        "#df_results_filtered[columns_to_retain] = df_results_filtered[columns_to_retain].fillna(0)\n",
        "\n",
        "\n",
        "# Convert vote share columns from float32 to a more precise datatype if necessary\n",
        "vote_share_columns = ['Con19', 'Lab19', 'LD19', 'PC19', 'UKIP19', 'Green19', 'Brexit19', 'Other19',\n",
        "    'ConVote19', 'LabVote19', 'LDVote19', 'PCVote19', 'UKIPVote19', 'GreenVote19', 'BrexitVote19',\n",
        "    'TotalVote19', 'Electorate19']\n",
        "df_results_filtered[vote_share_columns] = df_results_filtered[vote_share_columns].fillna(0)\n",
        "df_results_filtered[vote_share_columns] = df_results_filtered[vote_share_columns].astype('int')\n",
        "\n"
      ]
    },
    {
      "cell_type": "code",
      "execution_count": 34,
      "metadata": {
        "colab": {
          "base_uri": "https://localhost:8080/"
        },
        "id": "mPlt2t1XnWS4",
        "outputId": "add5cf26-49b3-48f5-b849-eea8d27a5049"
      },
      "outputs": [
        {
          "name": "stdout",
          "output_type": "stream",
          "text": [
            "Index(['ONSConstID', 'Winner19', 'Con_percent', 'Lab_percent', 'LD_percent',\n",
            "       'PC_percent', 'UKIP_percent', 'Green_percent', 'Brexit19', 'Other19',\n",
            "       'ConVote', 'LabVote', 'LDVote', 'PCVote', 'UKIPVote', 'GreenVote',\n",
            "       'BrexitVote19', 'TotalVote', 'Electorate19'],\n",
            "      dtype='object')\n"
          ]
        }
      ],
      "source": [
        "# Renaming columns for clarity\n",
        "rename_columns = {\n",
        "    'Con19': 'Con_percent',\n",
        "    'Lab19': 'Lab_percent',\n",
        "    'LD19': 'LD_percent',\n",
        "    'PC19': 'PC_percent',\n",
        "    'UKIP19': 'UKIP_percent',\n",
        "    'Green19': 'Green_percent',\n",
        "    'ConVote19': 'ConVote',\n",
        "    'LabVote19': 'LabVote',\n",
        "    'LDVote19': 'LDVote',\n",
        "    'PCVote19': 'PCVote',\n",
        "    'UKIPVote19': 'UKIPVote',\n",
        "    'GreenVote19': 'GreenVote',\n",
        "    'TotalVote19': 'TotalVote'\n",
        "}\n",
        "\n",
        "df_results_filtered = df_results_filtered.rename(columns=rename_columns)\n",
        "\n",
        "print(df_results_filtered.columns)\n"
      ]
    },
    {
      "cell_type": "code",
      "execution_count": 35,
      "metadata": {
        "id": "aQkxBQ0RXpes"
      },
      "outputs": [],
      "source": [
        "# Summing up the vote counts for non-major parties into 'OtherVote' and 'Other_percent'\n",
        "df_results_filtered['OtherVote'] = df_results_filtered['PCVote'] + df_results_filtered['UKIPVote'] + df_results_filtered['GreenVote']\n",
        "\n",
        "# Calculating the percentage of votes for 'Other' category\n",
        "df_results_filtered['Other_percent'] = 100 * df_results_filtered['OtherVote'] / df_results_filtered['TotalVote']\n",
        "\n",
        "party_columns_mapping = {\n",
        "    'Lab': 'party_1_vote_percentage',\n",
        "    'Con': 'party_2_vote_percentage',\n",
        "    'LD': 'party_3_vote_percentage',\n",
        "    'Other': 'party_4_vote_percentage'\n",
        "}\n",
        "df_results_filtered.rename(columns={'ONSConstID': 'constit_code'}, inplace=True)\n",
        "\n",
        "# Merge to combine actual percentages from 'true_results' into 'aggregated_with_true'\n",
        "aggregated_with_true = pd.merge(aggregated_data, df_results_filtered, on='constit_code')\n",
        "\n",
        "# Calculate scale factors based on actual/estimated percentages\n",
        "parties = ['Lab', 'Con', 'LD', 'Other']\n",
        "for party, col_name in party_columns_mapping.items():\n",
        "    actual_col = f'{party}_percent'  # This should match columns in your actual data\n",
        "    estimated_col = col_name  # Directly use the mapping\n",
        "    scale_factor_col = f'{party}_scale_factor'  # New column for scale factor\n",
        "\n",
        "    # Calculate scale factor as actual/estimated\n",
        "    aggregated_with_true[estimated_col].replace(0, np.nan, inplace=True)  # Replace 0 with NaN to avoid division by zero\n",
        "    aggregated_with_true[scale_factor_col] = aggregated_with_true[actual_col] / aggregated_with_true[estimated_col]\n",
        "\n",
        "    # Optional: Handle infinite or NaN scale factors\n",
        "    aggregated_with_true[scale_factor_col].replace([np.inf, -np.inf], np.nan, inplace=True)\n",
        "    aggregated_with_true[scale_factor_col].fillna(1, inplace=True)  # Default scale factor for missing/infinite values\n",
        "\n",
        "# Apply scale factors to the estimated percentages\n",
        "for party, col_name in party_columns_mapping.items():\n",
        "    scale_factor_col = f'{party}_scale_factor'\n",
        "    scaled_col = f'{col_name}_scaled'  # New column for scaled estimates\n",
        "    aggregated_with_true[scaled_col] = aggregated_with_true[col_name] * aggregated_with_true[scale_factor_col]"
      ]
    },
    {
      "cell_type": "code",
      "execution_count": 36,
      "metadata": {
        "colab": {
          "base_uri": "https://localhost:8080/",
          "height": 607
        },
        "id": "J6nVV5uZbb4U",
        "outputId": "b13c1010-2759-4aaf-fdcd-76634f3b145b"
      },
      "outputs": [
        {
          "data": {
            "image/png": "[encoded data removed]",
            "text/plain": [
              "<Figure size 800x600 with 1 Axes>"
            ]
          },
          "metadata": {},
          "output_type": "display_data"
        }
      ],
      "source": [
        "# Calculate the average scale factor for each party\n",
        "average_scale_factors = aggregated_with_true[['Con_scale_factor', 'Lab_scale_factor', 'LD_scale_factor', 'Other_scale_factor']].mean()\n",
        "\n",
        "# Plotting\n",
        "fig, ax = plt.subplots(figsize=(8, 6))\n",
        "parties = ['Conservative', 'Labour', 'Liberal Democrats', 'Other']\n",
        "ax.bar(parties, average_scale_factors, color='skyblue')\n",
        "\n",
        "# Adding labels and title\n",
        "ax.set_xlabel('Party')\n",
        "ax.set_ylabel('Average Scale Factor')\n",
        "ax.set_title('Average Deviation of Estimated Results from Actual Results')\n",
        "\n",
        "# Show plot\n",
        "plt.xticks(rotation=45)\n",
        "plt.tight_layout()\n",
        "plt.show()\n"
      ]
    }
  ],
  "metadata": {
    "colab": {
      "machine_shape": "hm",
      "provenance": []
    },
    "kernelspec": {
      "display_name": "Python 3",
      "name": "python3"
    },
    "language_info": {
      "codemirror_mode": {
        "name": "ipython",
        "version": 3
      },
      "file_extension": ".py",
      "mimetype": "text/x-python",
      "name": "python",
      "nbconvert_exporter": "python",
      "pygments_lexer": "ipython3",
      "version": "3.11.8"
    },
    "widgets": {
      "application/vnd.jupyter.widget-state+json": {
        "0496594eca534ee09e8ed3d3707610e4": {
          "model_module": "@jupyter-widgets/controls",
          "model_module_version": "1.5.0",
          "model_name": "FloatProgressModel",
          "state": {
            "_dom_classes": [],
            "_model_module": "@jupyter-widgets/controls",
            "_model_module_version": "1.5.0",
            "_model_name": "FloatProgressModel",
            "_view_count": null,
            "_view_module": "@jupyter-widgets/controls",
            "_view_module_version": "1.5.0",
            "_view_name": "ProgressView",
            "bar_style": "success",
            "description": "",
            "description_tooltip": null,
            "layout": "IPY_MODEL_5f54db99de65442ba08b26686244dd3e",
            "max": 32,
            "min": 0,
            "orientation": "horizontal",
            "style": "IPY_MODEL_cb8a69ca0c014943a13277e005bfe853",
            "value": 32
          }
        },
        "056778020afa40d6861dcf8f8be16b35": {
          "model_module": "@jupyter-widgets/controls",
          "model_module_version": "1.5.0",
          "model_name": "HBoxModel",
          "state": {
            "_dom_classes": [],
            "_model_module": "@jupyter-widgets/controls",
            "_model_module_version": "1.5.0",
            "_model_name": "HBoxModel",
            "_view_count": null,
            "_view_module": "@jupyter-widgets/controls",
            "_view_module_version": "1.5.0",
            "_view_name": "HBoxView",
            "box_style": "",
            "children": [
              "IPY_MODEL_6ef5f542ab004295be60a5cd5baa9cda",
              "IPY_MODEL_dae958e8ef434eafb6afd0128334f697",
              "IPY_MODEL_1a51170ebad14e389a45526b2c44a24b"
            ],
            "layout": "IPY_MODEL_e916e86140554a4883c70e13e359f62c"
          }
        },
        "07137121932e4e3bb1919b4adc8d351a": {
          "model_module": "@jupyter-widgets/base",
          "model_module_version": "1.2.0",
          "model_name": "LayoutModel",
          "state": {
            "_model_module": "@jupyter-widgets/base",
            "_model_module_version": "1.2.0",
            "_model_name": "LayoutModel",
            "_view_count": null,
            "_view_module": "@jupyter-widgets/base",
            "_view_module_version": "1.2.0",
            "_view_name": "LayoutView",
            "align_content": null,
            "align_items": null,
            "align_self": null,
            "border": null,
            "bottom": null,
            "display": null,
            "flex": null,
            "flex_flow": null,
            "grid_area": null,
            "grid_auto_columns": null,
            "grid_auto_flow": null,
            "grid_auto_rows": null,
            "grid_column": null,
            "grid_gap": null,
            "grid_row": null,
            "grid_template_areas": null,
            "grid_template_columns": null,
            "grid_template_rows": null,
            "height": null,
            "justify_content": null,
            "justify_items": null,
            "left": null,
            "margin": null,
            "max_height": null,
            "max_width": null,
            "min_height": null,
            "min_width": null,
            "object_fit": null,
            "object_position": null,
            "order": null,
            "overflow": null,
            "overflow_x": null,
            "overflow_y": null,
            "padding": null,
            "right": null,
            "top": null,
            "visibility": null,
            "width": null
          }
        },
        "09efbad656534e3380dcef9c117e2144": {
          "model_module": "@jupyter-widgets/controls",
          "model_module_version": "1.5.0",
          "model_name": "FloatProgressModel",
          "state": {
            "_dom_classes": [],
            "_model_module": "@jupyter-widgets/controls",
            "_model_module_version": "1.5.0",
            "_model_name": "FloatProgressModel",
            "_view_count": null,
            "_view_module": "@jupyter-widgets/controls",
            "_view_module_version": "1.5.0",
            "_view_name": "ProgressView",
            "bar_style": "success",
            "description": "",
            "description_tooltip": null,
            "layout": "IPY_MODEL_c0b69b56a1984b808814fd36e93f27d4",
            "max": 32,
            "min": 0,
            "orientation": "horizontal",
            "style": "IPY_MODEL_4b71ded4c234448a987838e75915ea5c",
            "value": 32
          }
        },
        "143c02725fc74490b8355d5c2b6f97a9": {
          "model_module": "@jupyter-widgets/base",
          "model_module_version": "1.2.0",
          "model_name": "LayoutModel",
          "state": {
            "_model_module": "@jupyter-widgets/base",
            "_model_module_version": "1.2.0",
            "_model_name": "LayoutModel",
            "_view_count": null,
            "_view_module": "@jupyter-widgets/base",
            "_view_module_version": "1.2.0",
            "_view_name": "LayoutView",
            "align_content": null,
            "align_items": null,
            "align_self": null,
            "border": null,
            "bottom": null,
            "display": null,
            "flex": null,
            "flex_flow": null,
            "grid_area": null,
            "grid_auto_columns": null,
            "grid_auto_flow": null,
            "grid_auto_rows": null,
            "grid_column": null,
            "grid_gap": null,
            "grid_row": null,
            "grid_template_areas": null,
            "grid_template_columns": null,
            "grid_template_rows": null,
            "height": null,
            "justify_content": null,
            "justify_items": null,
            "left": null,
            "margin": null,
            "max_height": null,
            "max_width": null,
            "min_height": null,
            "min_width": null,
            "object_fit": null,
            "object_position": null,
            "order": null,
            "overflow": null,
            "overflow_x": null,
            "overflow_y": null,
            "padding": null,
            "right": null,
            "top": null,
            "visibility": null,
            "width": null
          }
        },
        "1925905a539746d1afa0a6842733d625": {
          "model_module": "@jupyter-widgets/controls",
          "model_module_version": "1.5.0",
          "model_name": "HTMLModel",
          "state": {
            "_dom_classes": [],
            "_model_module": "@jupyter-widgets/controls",
            "_model_module_version": "1.5.0",
            "_model_name": "HTMLModel",
            "_view_count": null,
            "_view_module": "@jupyter-widgets/controls",
            "_view_module_version": "1.5.0",
            "_view_name": "HTMLView",
            "description": "",
            "description_tooltip": null,
            "layout": "IPY_MODEL_8bfb009a08b34026896b96ff1f1d71fa",
            "placeholder": "​",
            "style": "IPY_MODEL_ac1437f408ff4ea5a5d6bcec069af866",
            "value": "chain 2 "
          }
        },
        "1a51170ebad14e389a45526b2c44a24b": {
          "model_module": "@jupyter-widgets/controls",
          "model_module_version": "1.5.0",
          "model_name": "HTMLModel",
          "state": {
            "_dom_classes": [],
            "_model_module": "@jupyter-widgets/controls",
            "_model_module_version": "1.5.0",
            "_model_name": "HTMLModel",
            "_view_count": null,
            "_view_module": "@jupyter-widgets/controls",
            "_view_module_version": "1.5.0",
            "_view_name": "HTMLView",
            "description": "",
            "description_tooltip": null,
            "layout": "IPY_MODEL_c959280d0a504652b6e114c623d10946",
            "placeholder": "​",
            "style": "IPY_MODEL_da9e64ca6a754acfb89d94a5178c3b98",
            "value": " 43:37 Sampling completed"
          }
        },
        "1aa19152fdaf45d08c586cd1dc87a680": {
          "model_module": "@jupyter-widgets/controls",
          "model_module_version": "1.5.0",
          "model_name": "DescriptionStyleModel",
          "state": {
            "_model_module": "@jupyter-widgets/controls",
            "_model_module_version": "1.5.0",
            "_model_name": "DescriptionStyleModel",
            "_view_count": null,
            "_view_module": "@jupyter-widgets/base",
            "_view_module_version": "1.2.0",
            "_view_name": "StyleView",
            "description_width": ""
          }
        },
        "29449d19105447baa29b908a332bb5bc": {
          "model_module": "@jupyter-widgets/base",
          "model_module_version": "1.2.0",
          "model_name": "LayoutModel",
          "state": {
            "_model_module": "@jupyter-widgets/base",
            "_model_module_version": "1.2.0",
            "_model_name": "LayoutModel",
            "_view_count": null,
            "_view_module": "@jupyter-widgets/base",
            "_view_module_version": "1.2.0",
            "_view_name": "LayoutView",
            "align_content": null,
            "align_items": null,
            "align_self": null,
            "border": null,
            "bottom": null,
            "display": null,
            "flex": null,
            "flex_flow": null,
            "grid_area": null,
            "grid_auto_columns": null,
            "grid_auto_flow": null,
            "grid_auto_rows": null,
            "grid_column": null,
            "grid_gap": null,
            "grid_row": null,
            "grid_template_areas": null,
            "grid_template_columns": null,
            "grid_template_rows": null,
            "height": null,
            "justify_content": null,
            "justify_items": null,
            "left": null,
            "margin": null,
            "max_height": null,
            "max_width": null,
            "min_height": null,
            "min_width": null,
            "object_fit": null,
            "object_position": null,
            "order": null,
            "overflow": null,
            "overflow_x": null,
            "overflow_y": null,
            "padding": null,
            "right": null,
            "top": null,
            "visibility": null,
            "width": null
          }
        },
        "2b9b89737695447d874f31072f176baf": {
          "model_module": "@jupyter-widgets/controls",
          "model_module_version": "1.5.0",
          "model_name": "HBoxModel",
          "state": {
            "_dom_classes": [],
            "_model_module": "@jupyter-widgets/controls",
            "_model_module_version": "1.5.0",
            "_model_name": "HBoxModel",
            "_view_count": null,
            "_view_module": "@jupyter-widgets/controls",
            "_view_module_version": "1.5.0",
            "_view_name": "HBoxView",
            "box_style": "",
            "children": [
              "IPY_MODEL_ddb24619af224ee48ae399eafd52342d",
              "IPY_MODEL_d44d943688f94a108cb8db0d4faf0bfb",
              "IPY_MODEL_78603dcce6754cfe86d3b83515646dd6"
            ],
            "layout": "IPY_MODEL_a552f64c59b341eab4e9dd7b30f7c76b"
          }
        },
        "2b9ba421a3cb4d3fa24ace12a3894f5a": {
          "model_module": "@jupyter-widgets/controls",
          "model_module_version": "1.5.0",
          "model_name": "DescriptionStyleModel",
          "state": {
            "_model_module": "@jupyter-widgets/controls",
            "_model_module_version": "1.5.0",
            "_model_name": "DescriptionStyleModel",
            "_view_count": null,
            "_view_module": "@jupyter-widgets/base",
            "_view_module_version": "1.2.0",
            "_view_name": "StyleView",
            "description_width": ""
          }
        },
        "2f48f73eccab49d383a821171141c05f": {
          "model_module": "@jupyter-widgets/controls",
          "model_module_version": "1.5.0",
          "model_name": "DescriptionStyleModel",
          "state": {
            "_model_module": "@jupyter-widgets/controls",
            "_model_module_version": "1.5.0",
            "_model_name": "DescriptionStyleModel",
            "_view_count": null,
            "_view_module": "@jupyter-widgets/base",
            "_view_module_version": "1.2.0",
            "_view_name": "StyleView",
            "description_width": ""
          }
        },
        "399d674146b44c7ead1b3be106510495": {
          "model_module": "@jupyter-widgets/controls",
          "model_module_version": "1.5.0",
          "model_name": "HBoxModel",
          "state": {
            "_dom_classes": [],
            "_model_module": "@jupyter-widgets/controls",
            "_model_module_version": "1.5.0",
            "_model_name": "HBoxModel",
            "_view_count": null,
            "_view_module": "@jupyter-widgets/controls",
            "_view_module_version": "1.5.0",
            "_view_name": "HBoxView",
            "box_style": "",
            "children": [
              "IPY_MODEL_d23bedfb954e443ba335fa4dd973f748",
              "IPY_MODEL_09efbad656534e3380dcef9c117e2144",
              "IPY_MODEL_6d47e6f5012b40f4bed418418956b001"
            ],
            "layout": "IPY_MODEL_63ac9b76a9df473f92c2bd7e00b74a82"
          }
        },
        "40fcbf2028784b49880ca3639255321c": {
          "model_module": "@jupyter-widgets/base",
          "model_module_version": "1.2.0",
          "model_name": "LayoutModel",
          "state": {
            "_model_module": "@jupyter-widgets/base",
            "_model_module_version": "1.2.0",
            "_model_name": "LayoutModel",
            "_view_count": null,
            "_view_module": "@jupyter-widgets/base",
            "_view_module_version": "1.2.0",
            "_view_name": "LayoutView",
            "align_content": null,
            "align_items": null,
            "align_self": null,
            "border": null,
            "bottom": null,
            "display": null,
            "flex": null,
            "flex_flow": null,
            "grid_area": null,
            "grid_auto_columns": null,
            "grid_auto_flow": null,
            "grid_auto_rows": null,
            "grid_column": null,
            "grid_gap": null,
            "grid_row": null,
            "grid_template_areas": null,
            "grid_template_columns": null,
            "grid_template_rows": null,
            "height": null,
            "justify_content": null,
            "justify_items": null,
            "left": null,
            "margin": null,
            "max_height": null,
            "max_width": null,
            "min_height": null,
            "min_width": null,
            "object_fit": null,
            "object_position": null,
            "order": null,
            "overflow": null,
            "overflow_x": null,
            "overflow_y": null,
            "padding": null,
            "right": null,
            "top": null,
            "visibility": null,
            "width": null
          }
        },
        "4579111a37374ede89ebcb24bf76e421": {
          "model_module": "@jupyter-widgets/base",
          "model_module_version": "1.2.0",
          "model_name": "LayoutModel",
          "state": {
            "_model_module": "@jupyter-widgets/base",
            "_model_module_version": "1.2.0",
            "_model_name": "LayoutModel",
            "_view_count": null,
            "_view_module": "@jupyter-widgets/base",
            "_view_module_version": "1.2.0",
            "_view_name": "LayoutView",
            "align_content": null,
            "align_items": null,
            "align_self": null,
            "border": null,
            "bottom": null,
            "display": null,
            "flex": null,
            "flex_flow": null,
            "grid_area": null,
            "grid_auto_columns": null,
            "grid_auto_flow": null,
            "grid_auto_rows": null,
            "grid_column": null,
            "grid_gap": null,
            "grid_row": null,
            "grid_template_areas": null,
            "grid_template_columns": null,
            "grid_template_rows": null,
            "height": null,
            "justify_content": null,
            "justify_items": null,
            "left": null,
            "margin": null,
            "max_height": null,
            "max_width": null,
            "min_height": null,
            "min_width": null,
            "object_fit": null,
            "object_position": null,
            "order": null,
            "overflow": null,
            "overflow_x": null,
            "overflow_y": null,
            "padding": null,
            "right": null,
            "top": null,
            "visibility": null,
            "width": null
          }
        },
        "4b71ded4c234448a987838e75915ea5c": {
          "model_module": "@jupyter-widgets/controls",
          "model_module_version": "1.5.0",
          "model_name": "ProgressStyleModel",
          "state": {
            "_model_module": "@jupyter-widgets/controls",
            "_model_module_version": "1.5.0",
            "_model_name": "ProgressStyleModel",
            "_view_count": null,
            "_view_module": "@jupyter-widgets/base",
            "_view_module_version": "1.2.0",
            "_view_name": "StyleView",
            "bar_color": "blue",
            "description_width": ""
          }
        },
        "5f54db99de65442ba08b26686244dd3e": {
          "model_module": "@jupyter-widgets/base",
          "model_module_version": "1.2.0",
          "model_name": "LayoutModel",
          "state": {
            "_model_module": "@jupyter-widgets/base",
            "_model_module_version": "1.2.0",
            "_model_name": "LayoutModel",
            "_view_count": null,
            "_view_module": "@jupyter-widgets/base",
            "_view_module_version": "1.2.0",
            "_view_name": "LayoutView",
            "align_content": null,
            "align_items": null,
            "align_self": null,
            "border": null,
            "bottom": null,
            "display": null,
            "flex": null,
            "flex_flow": null,
            "grid_area": null,
            "grid_auto_columns": null,
            "grid_auto_flow": null,
            "grid_auto_rows": null,
            "grid_column": null,
            "grid_gap": null,
            "grid_row": null,
            "grid_template_areas": null,
            "grid_template_columns": null,
            "grid_template_rows": null,
            "height": null,
            "justify_content": null,
            "justify_items": null,
            "left": null,
            "margin": null,
            "max_height": null,
            "max_width": null,
            "min_height": null,
            "min_width": null,
            "object_fit": null,
            "object_position": null,
            "order": null,
            "overflow": null,
            "overflow_x": null,
            "overflow_y": null,
            "padding": null,
            "right": null,
            "top": null,
            "visibility": null,
            "width": null
          }
        },
        "63ac9b76a9df473f92c2bd7e00b74a82": {
          "model_module": "@jupyter-widgets/base",
          "model_module_version": "1.2.0",
          "model_name": "LayoutModel",
          "state": {
            "_model_module": "@jupyter-widgets/base",
            "_model_module_version": "1.2.0",
            "_model_name": "LayoutModel",
            "_view_count": null,
            "_view_module": "@jupyter-widgets/base",
            "_view_module_version": "1.2.0",
            "_view_name": "LayoutView",
            "align_content": null,
            "align_items": null,
            "align_self": null,
            "border": null,
            "bottom": null,
            "display": null,
            "flex": null,
            "flex_flow": null,
            "grid_area": null,
            "grid_auto_columns": null,
            "grid_auto_flow": null,
            "grid_auto_rows": null,
            "grid_column": null,
            "grid_gap": null,
            "grid_row": null,
            "grid_template_areas": null,
            "grid_template_columns": null,
            "grid_template_rows": null,
            "height": null,
            "justify_content": null,
            "justify_items": null,
            "left": null,
            "margin": null,
            "max_height": null,
            "max_width": null,
            "min_height": null,
            "min_width": null,
            "object_fit": null,
            "object_position": null,
            "order": null,
            "overflow": null,
            "overflow_x": null,
            "overflow_y": null,
            "padding": null,
            "right": null,
            "top": null,
            "visibility": null,
            "width": null
          }
        },
        "64fe448969494350805f2479cc796c3d": {
          "model_module": "@jupyter-widgets/base",
          "model_module_version": "1.2.0",
          "model_name": "LayoutModel",
          "state": {
            "_model_module": "@jupyter-widgets/base",
            "_model_module_version": "1.2.0",
            "_model_name": "LayoutModel",
            "_view_count": null,
            "_view_module": "@jupyter-widgets/base",
            "_view_module_version": "1.2.0",
            "_view_name": "LayoutView",
            "align_content": null,
            "align_items": null,
            "align_self": null,
            "border": null,
            "bottom": null,
            "display": null,
            "flex": null,
            "flex_flow": null,
            "grid_area": null,
            "grid_auto_columns": null,
            "grid_auto_flow": null,
            "grid_auto_rows": null,
            "grid_column": null,
            "grid_gap": null,
            "grid_row": null,
            "grid_template_areas": null,
            "grid_template_columns": null,
            "grid_template_rows": null,
            "height": null,
            "justify_content": null,
            "justify_items": null,
            "left": null,
            "margin": null,
            "max_height": null,
            "max_width": null,
            "min_height": null,
            "min_width": null,
            "object_fit": null,
            "object_position": null,
            "order": null,
            "overflow": null,
            "overflow_x": null,
            "overflow_y": null,
            "padding": null,
            "right": null,
            "top": null,
            "visibility": null,
            "width": null
          }
        },
        "6d47e6f5012b40f4bed418418956b001": {
          "model_module": "@jupyter-widgets/controls",
          "model_module_version": "1.5.0",
          "model_name": "HTMLModel",
          "state": {
            "_dom_classes": [],
            "_model_module": "@jupyter-widgets/controls",
            "_model_module_version": "1.5.0",
            "_model_name": "HTMLModel",
            "_view_count": null,
            "_view_module": "@jupyter-widgets/controls",
            "_view_module_version": "1.5.0",
            "_view_name": "HTMLView",
            "description": "",
            "description_tooltip": null,
            "layout": "IPY_MODEL_64fe448969494350805f2479cc796c3d",
            "placeholder": "​",
            "style": "IPY_MODEL_1aa19152fdaf45d08c586cd1dc87a680",
            "value": " 43:37 Sampling completed"
          }
        },
        "6ef5f542ab004295be60a5cd5baa9cda": {
          "model_module": "@jupyter-widgets/controls",
          "model_module_version": "1.5.0",
          "model_name": "HTMLModel",
          "state": {
            "_dom_classes": [],
            "_model_module": "@jupyter-widgets/controls",
            "_model_module_version": "1.5.0",
            "_model_name": "HTMLModel",
            "_view_count": null,
            "_view_module": "@jupyter-widgets/controls",
            "_view_module_version": "1.5.0",
            "_view_name": "HTMLView",
            "description": "",
            "description_tooltip": null,
            "layout": "IPY_MODEL_40fcbf2028784b49880ca3639255321c",
            "placeholder": "​",
            "style": "IPY_MODEL_2b9ba421a3cb4d3fa24ace12a3894f5a",
            "value": "chain 4 "
          }
        },
        "78603dcce6754cfe86d3b83515646dd6": {
          "model_module": "@jupyter-widgets/controls",
          "model_module_version": "1.5.0",
          "model_name": "HTMLModel",
          "state": {
            "_dom_classes": [],
            "_model_module": "@jupyter-widgets/controls",
            "_model_module_version": "1.5.0",
            "_model_name": "HTMLModel",
            "_view_count": null,
            "_view_module": "@jupyter-widgets/controls",
            "_view_module_version": "1.5.0",
            "_view_name": "HTMLView",
            "description": "",
            "description_tooltip": null,
            "layout": "IPY_MODEL_29449d19105447baa29b908a332bb5bc",
            "placeholder": "​",
            "style": "IPY_MODEL_2f48f73eccab49d383a821171141c05f",
            "value": " 43:37 Sampling completed"
          }
        },
        "7c9d5d0fd2f245fc9ac770458800e5bc": {
          "model_module": "@jupyter-widgets/controls",
          "model_module_version": "1.5.0",
          "model_name": "DescriptionStyleModel",
          "state": {
            "_model_module": "@jupyter-widgets/controls",
            "_model_module_version": "1.5.0",
            "_model_name": "DescriptionStyleModel",
            "_view_count": null,
            "_view_module": "@jupyter-widgets/base",
            "_view_module_version": "1.2.0",
            "_view_name": "StyleView",
            "description_width": ""
          }
        },
        "879f9088ae3c4968911c6b416df95c2b": {
          "model_module": "@jupyter-widgets/controls",
          "model_module_version": "1.5.0",
          "model_name": "HTMLModel",
          "state": {
            "_dom_classes": [],
            "_model_module": "@jupyter-widgets/controls",
            "_model_module_version": "1.5.0",
            "_model_name": "HTMLModel",
            "_view_count": null,
            "_view_module": "@jupyter-widgets/controls",
            "_view_module_version": "1.5.0",
            "_view_name": "HTMLView",
            "description": "",
            "description_tooltip": null,
            "layout": "IPY_MODEL_07137121932e4e3bb1919b4adc8d351a",
            "placeholder": "​",
            "style": "IPY_MODEL_fe2f2280418e4864b9a5dfac02214c7f",
            "value": " 43:37 Sampling completed"
          }
        },
        "8bfb009a08b34026896b96ff1f1d71fa": {
          "model_module": "@jupyter-widgets/base",
          "model_module_version": "1.2.0",
          "model_name": "LayoutModel",
          "state": {
            "_model_module": "@jupyter-widgets/base",
            "_model_module_version": "1.2.0",
            "_model_name": "LayoutModel",
            "_view_count": null,
            "_view_module": "@jupyter-widgets/base",
            "_view_module_version": "1.2.0",
            "_view_name": "LayoutView",
            "align_content": null,
            "align_items": null,
            "align_self": null,
            "border": null,
            "bottom": null,
            "display": null,
            "flex": null,
            "flex_flow": null,
            "grid_area": null,
            "grid_auto_columns": null,
            "grid_auto_flow": null,
            "grid_auto_rows": null,
            "grid_column": null,
            "grid_gap": null,
            "grid_row": null,
            "grid_template_areas": null,
            "grid_template_columns": null,
            "grid_template_rows": null,
            "height": null,
            "justify_content": null,
            "justify_items": null,
            "left": null,
            "margin": null,
            "max_height": null,
            "max_width": null,
            "min_height": null,
            "min_width": null,
            "object_fit": null,
            "object_position": null,
            "order": null,
            "overflow": null,
            "overflow_x": null,
            "overflow_y": null,
            "padding": null,
            "right": null,
            "top": null,
            "visibility": null,
            "width": null
          }
        },
        "93a78a594487477da514a749ec5dbea5": {
          "model_module": "@jupyter-widgets/controls",
          "model_module_version": "1.5.0",
          "model_name": "ProgressStyleModel",
          "state": {
            "_model_module": "@jupyter-widgets/controls",
            "_model_module_version": "1.5.0",
            "_model_name": "ProgressStyleModel",
            "_view_count": null,
            "_view_module": "@jupyter-widgets/base",
            "_view_module_version": "1.2.0",
            "_view_name": "StyleView",
            "bar_color": "blue",
            "description_width": ""
          }
        },
        "9a4dea60d5694a7f8c4cc69e62ad4c9c": {
          "model_module": "@jupyter-widgets/controls",
          "model_module_version": "1.5.0",
          "model_name": "DescriptionStyleModel",
          "state": {
            "_model_module": "@jupyter-widgets/controls",
            "_model_module_version": "1.5.0",
            "_model_name": "DescriptionStyleModel",
            "_view_count": null,
            "_view_module": "@jupyter-widgets/base",
            "_view_module_version": "1.2.0",
            "_view_name": "StyleView",
            "description_width": ""
          }
        },
        "9fcd2876238047cda31b256743241c87": {
          "model_module": "@jupyter-widgets/base",
          "model_module_version": "1.2.0",
          "model_name": "LayoutModel",
          "state": {
            "_model_module": "@jupyter-widgets/base",
            "_model_module_version": "1.2.0",
            "_model_name": "LayoutModel",
            "_view_count": null,
            "_view_module": "@jupyter-widgets/base",
            "_view_module_version": "1.2.0",
            "_view_name": "LayoutView",
            "align_content": null,
            "align_items": null,
            "align_self": null,
            "border": null,
            "bottom": null,
            "display": null,
            "flex": null,
            "flex_flow": null,
            "grid_area": null,
            "grid_auto_columns": null,
            "grid_auto_flow": null,
            "grid_auto_rows": null,
            "grid_column": null,
            "grid_gap": null,
            "grid_row": null,
            "grid_template_areas": null,
            "grid_template_columns": null,
            "grid_template_rows": null,
            "height": null,
            "justify_content": null,
            "justify_items": null,
            "left": null,
            "margin": null,
            "max_height": null,
            "max_width": null,
            "min_height": null,
            "min_width": null,
            "object_fit": null,
            "object_position": null,
            "order": null,
            "overflow": null,
            "overflow_x": null,
            "overflow_y": null,
            "padding": null,
            "right": null,
            "top": null,
            "visibility": null,
            "width": null
          }
        },
        "a51b48f07911493baeb4ca75278e3b6e": {
          "model_module": "@jupyter-widgets/controls",
          "model_module_version": "1.5.0",
          "model_name": "HBoxModel",
          "state": {
            "_dom_classes": [],
            "_model_module": "@jupyter-widgets/controls",
            "_model_module_version": "1.5.0",
            "_model_name": "HBoxModel",
            "_view_count": null,
            "_view_module": "@jupyter-widgets/controls",
            "_view_module_version": "1.5.0",
            "_view_name": "HBoxView",
            "box_style": "",
            "children": [
              "IPY_MODEL_1925905a539746d1afa0a6842733d625",
              "IPY_MODEL_0496594eca534ee09e8ed3d3707610e4",
              "IPY_MODEL_879f9088ae3c4968911c6b416df95c2b"
            ],
            "layout": "IPY_MODEL_143c02725fc74490b8355d5c2b6f97a9"
          }
        },
        "a552f64c59b341eab4e9dd7b30f7c76b": {
          "model_module": "@jupyter-widgets/base",
          "model_module_version": "1.2.0",
          "model_name": "LayoutModel",
          "state": {
            "_model_module": "@jupyter-widgets/base",
            "_model_module_version": "1.2.0",
            "_model_name": "LayoutModel",
            "_view_count": null,
            "_view_module": "@jupyter-widgets/base",
            "_view_module_version": "1.2.0",
            "_view_name": "LayoutView",
            "align_content": null,
            "align_items": null,
            "align_self": null,
            "border": null,
            "bottom": null,
            "display": null,
            "flex": null,
            "flex_flow": null,
            "grid_area": null,
            "grid_auto_columns": null,
            "grid_auto_flow": null,
            "grid_auto_rows": null,
            "grid_column": null,
            "grid_gap": null,
            "grid_row": null,
            "grid_template_areas": null,
            "grid_template_columns": null,
            "grid_template_rows": null,
            "height": null,
            "justify_content": null,
            "justify_items": null,
            "left": null,
            "margin": null,
            "max_height": null,
            "max_width": null,
            "min_height": null,
            "min_width": null,
            "object_fit": null,
            "object_position": null,
            "order": null,
            "overflow": null,
            "overflow_x": null,
            "overflow_y": null,
            "padding": null,
            "right": null,
            "top": null,
            "visibility": null,
            "width": null
          }
        },
        "ac1437f408ff4ea5a5d6bcec069af866": {
          "model_module": "@jupyter-widgets/controls",
          "model_module_version": "1.5.0",
          "model_name": "DescriptionStyleModel",
          "state": {
            "_model_module": "@jupyter-widgets/controls",
            "_model_module_version": "1.5.0",
            "_model_name": "DescriptionStyleModel",
            "_view_count": null,
            "_view_module": "@jupyter-widgets/base",
            "_view_module_version": "1.2.0",
            "_view_name": "StyleView",
            "description_width": ""
          }
        },
        "b8d019dc16254e169214b56d397cf677": {
          "model_module": "@jupyter-widgets/controls",
          "model_module_version": "1.5.0",
          "model_name": "ProgressStyleModel",
          "state": {
            "_model_module": "@jupyter-widgets/controls",
            "_model_module_version": "1.5.0",
            "_model_name": "ProgressStyleModel",
            "_view_count": null,
            "_view_module": "@jupyter-widgets/base",
            "_view_module_version": "1.2.0",
            "_view_name": "StyleView",
            "bar_color": "blue",
            "description_width": ""
          }
        },
        "c0b69b56a1984b808814fd36e93f27d4": {
          "model_module": "@jupyter-widgets/base",
          "model_module_version": "1.2.0",
          "model_name": "LayoutModel",
          "state": {
            "_model_module": "@jupyter-widgets/base",
            "_model_module_version": "1.2.0",
            "_model_name": "LayoutModel",
            "_view_count": null,
            "_view_module": "@jupyter-widgets/base",
            "_view_module_version": "1.2.0",
            "_view_name": "LayoutView",
            "align_content": null,
            "align_items": null,
            "align_self": null,
            "border": null,
            "bottom": null,
            "display": null,
            "flex": null,
            "flex_flow": null,
            "grid_area": null,
            "grid_auto_columns": null,
            "grid_auto_flow": null,
            "grid_auto_rows": null,
            "grid_column": null,
            "grid_gap": null,
            "grid_row": null,
            "grid_template_areas": null,
            "grid_template_columns": null,
            "grid_template_rows": null,
            "height": null,
            "justify_content": null,
            "justify_items": null,
            "left": null,
            "margin": null,
            "max_height": null,
            "max_width": null,
            "min_height": null,
            "min_width": null,
            "object_fit": null,
            "object_position": null,
            "order": null,
            "overflow": null,
            "overflow_x": null,
            "overflow_y": null,
            "padding": null,
            "right": null,
            "top": null,
            "visibility": null,
            "width": null
          }
        },
        "c959280d0a504652b6e114c623d10946": {
          "model_module": "@jupyter-widgets/base",
          "model_module_version": "1.2.0",
          "model_name": "LayoutModel",
          "state": {
            "_model_module": "@jupyter-widgets/base",
            "_model_module_version": "1.2.0",
            "_model_name": "LayoutModel",
            "_view_count": null,
            "_view_module": "@jupyter-widgets/base",
            "_view_module_version": "1.2.0",
            "_view_name": "LayoutView",
            "align_content": null,
            "align_items": null,
            "align_self": null,
            "border": null,
            "bottom": null,
            "display": null,
            "flex": null,
            "flex_flow": null,
            "grid_area": null,
            "grid_auto_columns": null,
            "grid_auto_flow": null,
            "grid_auto_rows": null,
            "grid_column": null,
            "grid_gap": null,
            "grid_row": null,
            "grid_template_areas": null,
            "grid_template_columns": null,
            "grid_template_rows": null,
            "height": null,
            "justify_content": null,
            "justify_items": null,
            "left": null,
            "margin": null,
            "max_height": null,
            "max_width": null,
            "min_height": null,
            "min_width": null,
            "object_fit": null,
            "object_position": null,
            "order": null,
            "overflow": null,
            "overflow_x": null,
            "overflow_y": null,
            "padding": null,
            "right": null,
            "top": null,
            "visibility": null,
            "width": null
          }
        },
        "ca8be5401f3142a88ac79fdae86e2eb3": {
          "model_module": "@jupyter-widgets/base",
          "model_module_version": "1.2.0",
          "model_name": "LayoutModel",
          "state": {
            "_model_module": "@jupyter-widgets/base",
            "_model_module_version": "1.2.0",
            "_model_name": "LayoutModel",
            "_view_count": null,
            "_view_module": "@jupyter-widgets/base",
            "_view_module_version": "1.2.0",
            "_view_name": "LayoutView",
            "align_content": null,
            "align_items": null,
            "align_self": null,
            "border": null,
            "bottom": null,
            "display": null,
            "flex": null,
            "flex_flow": null,
            "grid_area": null,
            "grid_auto_columns": null,
            "grid_auto_flow": null,
            "grid_auto_rows": null,
            "grid_column": null,
            "grid_gap": null,
            "grid_row": null,
            "grid_template_areas": null,
            "grid_template_columns": null,
            "grid_template_rows": null,
            "height": null,
            "justify_content": null,
            "justify_items": null,
            "left": null,
            "margin": null,
            "max_height": null,
            "max_width": null,
            "min_height": null,
            "min_width": null,
            "object_fit": null,
            "object_position": null,
            "order": null,
            "overflow": null,
            "overflow_x": null,
            "overflow_y": null,
            "padding": null,
            "right": null,
            "top": null,
            "visibility": null,
            "width": null
          }
        },
        "cb8a69ca0c014943a13277e005bfe853": {
          "model_module": "@jupyter-widgets/controls",
          "model_module_version": "1.5.0",
          "model_name": "ProgressStyleModel",
          "state": {
            "_model_module": "@jupyter-widgets/controls",
            "_model_module_version": "1.5.0",
            "_model_name": "ProgressStyleModel",
            "_view_count": null,
            "_view_module": "@jupyter-widgets/base",
            "_view_module_version": "1.2.0",
            "_view_name": "StyleView",
            "bar_color": "blue",
            "description_width": ""
          }
        },
        "d100a20c527441a6a9f9c892381a2ef8": {
          "model_module": "@jupyter-widgets/base",
          "model_module_version": "1.2.0",
          "model_name": "LayoutModel",
          "state": {
            "_model_module": "@jupyter-widgets/base",
            "_model_module_version": "1.2.0",
            "_model_name": "LayoutModel",
            "_view_count": null,
            "_view_module": "@jupyter-widgets/base",
            "_view_module_version": "1.2.0",
            "_view_name": "LayoutView",
            "align_content": null,
            "align_items": null,
            "align_self": null,
            "border": null,
            "bottom": null,
            "display": null,
            "flex": null,
            "flex_flow": null,
            "grid_area": null,
            "grid_auto_columns": null,
            "grid_auto_flow": null,
            "grid_auto_rows": null,
            "grid_column": null,
            "grid_gap": null,
            "grid_row": null,
            "grid_template_areas": null,
            "grid_template_columns": null,
            "grid_template_rows": null,
            "height": null,
            "justify_content": null,
            "justify_items": null,
            "left": null,
            "margin": null,
            "max_height": null,
            "max_width": null,
            "min_height": null,
            "min_width": null,
            "object_fit": null,
            "object_position": null,
            "order": null,
            "overflow": null,
            "overflow_x": null,
            "overflow_y": null,
            "padding": null,
            "right": null,
            "top": null,
            "visibility": null,
            "width": null
          }
        },
        "d23bedfb954e443ba335fa4dd973f748": {
          "model_module": "@jupyter-widgets/controls",
          "model_module_version": "1.5.0",
          "model_name": "HTMLModel",
          "state": {
            "_dom_classes": [],
            "_model_module": "@jupyter-widgets/controls",
            "_model_module_version": "1.5.0",
            "_model_name": "HTMLModel",
            "_view_count": null,
            "_view_module": "@jupyter-widgets/controls",
            "_view_module_version": "1.5.0",
            "_view_name": "HTMLView",
            "description": "",
            "description_tooltip": null,
            "layout": "IPY_MODEL_9fcd2876238047cda31b256743241c87",
            "placeholder": "​",
            "style": "IPY_MODEL_7c9d5d0fd2f245fc9ac770458800e5bc",
            "value": "chain 1 "
          }
        },
        "d44d943688f94a108cb8db0d4faf0bfb": {
          "model_module": "@jupyter-widgets/controls",
          "model_module_version": "1.5.0",
          "model_name": "FloatProgressModel",
          "state": {
            "_dom_classes": [],
            "_model_module": "@jupyter-widgets/controls",
            "_model_module_version": "1.5.0",
            "_model_name": "FloatProgressModel",
            "_view_count": null,
            "_view_module": "@jupyter-widgets/controls",
            "_view_module_version": "1.5.0",
            "_view_name": "ProgressView",
            "bar_style": "success",
            "description": "",
            "description_tooltip": null,
            "layout": "IPY_MODEL_d100a20c527441a6a9f9c892381a2ef8",
            "max": 32,
            "min": 0,
            "orientation": "horizontal",
            "style": "IPY_MODEL_b8d019dc16254e169214b56d397cf677",
            "value": 32
          }
        },
        "da9e64ca6a754acfb89d94a5178c3b98": {
          "model_module": "@jupyter-widgets/controls",
          "model_module_version": "1.5.0",
          "model_name": "DescriptionStyleModel",
          "state": {
            "_model_module": "@jupyter-widgets/controls",
            "_model_module_version": "1.5.0",
            "_model_name": "DescriptionStyleModel",
            "_view_count": null,
            "_view_module": "@jupyter-widgets/base",
            "_view_module_version": "1.2.0",
            "_view_name": "StyleView",
            "description_width": ""
          }
        },
        "dae958e8ef434eafb6afd0128334f697": {
          "model_module": "@jupyter-widgets/controls",
          "model_module_version": "1.5.0",
          "model_name": "FloatProgressModel",
          "state": {
            "_dom_classes": [],
            "_model_module": "@jupyter-widgets/controls",
            "_model_module_version": "1.5.0",
            "_model_name": "FloatProgressModel",
            "_view_count": null,
            "_view_module": "@jupyter-widgets/controls",
            "_view_module_version": "1.5.0",
            "_view_name": "ProgressView",
            "bar_style": "success",
            "description": "",
            "description_tooltip": null,
            "layout": "IPY_MODEL_4579111a37374ede89ebcb24bf76e421",
            "max": 32,
            "min": 0,
            "orientation": "horizontal",
            "style": "IPY_MODEL_93a78a594487477da514a749ec5dbea5",
            "value": 32
          }
        },
        "ddb24619af224ee48ae399eafd52342d": {
          "model_module": "@jupyter-widgets/controls",
          "model_module_version": "1.5.0",
          "model_name": "HTMLModel",
          "state": {
            "_dom_classes": [],
            "_model_module": "@jupyter-widgets/controls",
            "_model_module_version": "1.5.0",
            "_model_name": "HTMLModel",
            "_view_count": null,
            "_view_module": "@jupyter-widgets/controls",
            "_view_module_version": "1.5.0",
            "_view_name": "HTMLView",
            "description": "",
            "description_tooltip": null,
            "layout": "IPY_MODEL_ca8be5401f3142a88ac79fdae86e2eb3",
            "placeholder": "​",
            "style": "IPY_MODEL_9a4dea60d5694a7f8c4cc69e62ad4c9c",
            "value": "chain 3 "
          }
        },
        "e916e86140554a4883c70e13e359f62c": {
          "model_module": "@jupyter-widgets/base",
          "model_module_version": "1.2.0",
          "model_name": "LayoutModel",
          "state": {
            "_model_module": "@jupyter-widgets/base",
            "_model_module_version": "1.2.0",
            "_model_name": "LayoutModel",
            "_view_count": null,
            "_view_module": "@jupyter-widgets/base",
            "_view_module_version": "1.2.0",
            "_view_name": "LayoutView",
            "align_content": null,
            "align_items": null,
            "align_self": null,
            "border": null,
            "bottom": null,
            "display": null,
            "flex": null,
            "flex_flow": null,
            "grid_area": null,
            "grid_auto_columns": null,
            "grid_auto_flow": null,
            "grid_auto_rows": null,
            "grid_column": null,
            "grid_gap": null,
            "grid_row": null,
            "grid_template_areas": null,
            "grid_template_columns": null,
            "grid_template_rows": null,
            "height": null,
            "justify_content": null,
            "justify_items": null,
            "left": null,
            "margin": null,
            "max_height": null,
            "max_width": null,
            "min_height": null,
            "min_width": null,
            "object_fit": null,
            "object_position": null,
            "order": null,
            "overflow": null,
            "overflow_x": null,
            "overflow_y": null,
            "padding": null,
            "right": null,
            "top": null,
            "visibility": null,
            "width": null
          }
        },
        "fe2f2280418e4864b9a5dfac02214c7f": {
          "model_module": "@jupyter-widgets/controls",
          "model_module_version": "1.5.0",
          "model_name": "DescriptionStyleModel",
          "state": {
            "_model_module": "@jupyter-widgets/controls",
            "_model_module_version": "1.5.0",
            "_model_name": "DescriptionStyleModel",
            "_view_count": null,
            "_view_module": "@jupyter-widgets/base",
            "_view_module_version": "1.2.0",
            "_view_name": "StyleView",
            "description_width": ""
          }
        }
      }
    }
  },
  "nbformat": 4,
  "nbformat_minor": 0
}
